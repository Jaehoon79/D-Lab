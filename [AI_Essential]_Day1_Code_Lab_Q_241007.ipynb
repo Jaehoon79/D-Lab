{
  "cells": [
    {
      "cell_type": "markdown",
      "metadata": {
        "id": "view-in-github",
        "colab_type": "text"
      },
      "source": [
        "<a href=\"https://colab.research.google.com/github/Jaehoon79/D-Lab/blob/master/%5BAI_Essential%5D_Day1_Code_Lab_Q_241007.ipynb\" target=\"_parent\"><img src=\"https://colab.research.google.com/assets/colab-badge.svg\" alt=\"Open In Colab\"/></a>"
      ]
    },
    {
      "cell_type": "code",
      "execution_count": null,
      "id": "20d4c4b4-c7bc-4ecf-ae3d-0426f9a80fb3",
      "metadata": {
        "collapsed": true,
        "id": "20d4c4b4-c7bc-4ecf-ae3d-0426f9a80fb3",
        "outputId": "772ff33f-4108-4949-aea4-02050b245447",
        "colab": {
          "base_uri": "https://localhost:8080/"
        }
      },
      "outputs": [
        {
          "output_type": "stream",
          "name": "stdout",
          "text": [
            "\u001b[2K     \u001b[90m━━━━━━━━━━━━━━━━━━━━━━━━━━━━━━━━━━━━━━━━\u001b[0m \u001b[32m50.4/50.4 kB\u001b[0m \u001b[31m1.5 MB/s\u001b[0m eta \u001b[36m0:00:00\u001b[0m\n",
            "\u001b[2K   \u001b[90m━━━━━━━━━━━━━━━━━━━━━━━━━━━━━━━━━━━━━━━━\u001b[0m \u001b[32m827.8/827.8 kB\u001b[0m \u001b[31m17.6 MB/s\u001b[0m eta \u001b[36m0:00:00\u001b[0m\n",
            "\u001b[2K   \u001b[90m━━━━━━━━━━━━━━━━━━━━━━━━━━━━━━━━━━━━━━━━\u001b[0m \u001b[32m174.5/174.5 kB\u001b[0m \u001b[31m8.0 MB/s\u001b[0m eta \u001b[36m0:00:00\u001b[0m\n",
            "\u001b[2K   \u001b[90m━━━━━━━━━━━━━━━━━━━━━━━━━━━━━━━━━━━━━━━━\u001b[0m \u001b[32m1.0/1.0 MB\u001b[0m \u001b[31m36.1 MB/s\u001b[0m eta \u001b[36m0:00:00\u001b[0m\n",
            "\u001b[2K   \u001b[90m━━━━━━━━━━━━━━━━━━━━━━━━━━━━━━━━━━━━━━━━\u001b[0m \u001b[32m2.3/2.3 MB\u001b[0m \u001b[31m34.3 MB/s\u001b[0m eta \u001b[36m0:00:00\u001b[0m\n",
            "\u001b[2K   \u001b[90m━━━━━━━━━━━━━━━━━━━━━━━━━━━━━━━━━━━━━━━━\u001b[0m \u001b[32m397.0/397.0 kB\u001b[0m \u001b[31m15.9 MB/s\u001b[0m eta \u001b[36m0:00:00\u001b[0m\n",
            "\u001b[2K   \u001b[90m━━━━━━━━━━━━━━━━━━━━━━━━━━━━━━━━━━━━━━━━\u001b[0m \u001b[32m383.7/383.7 kB\u001b[0m \u001b[31m21.0 MB/s\u001b[0m eta \u001b[36m0:00:00\u001b[0m\n",
            "\u001b[2K   \u001b[90m━━━━━━━━━━━━━━━━━━━━━━━━━━━━━━━━━━━━━━━━\u001b[0m \u001b[32m71.1/71.1 kB\u001b[0m \u001b[31m4.6 MB/s\u001b[0m eta \u001b[36m0:00:00\u001b[0m\n",
            "\u001b[2K   \u001b[90m━━━━━━━━━━━━━━━━━━━━━━━━━━━━━━━━━━━━━━━━\u001b[0m \u001b[32m471.6/471.6 kB\u001b[0m \u001b[31m26.2 MB/s\u001b[0m eta \u001b[36m0:00:00\u001b[0m\n",
            "\u001b[2K   \u001b[90m━━━━━━━━━━━━━━━━━━━━━━━━━━━━━━━━━━━━━━━━\u001b[0m \u001b[32m51.5/51.5 kB\u001b[0m \u001b[31m3.6 MB/s\u001b[0m eta \u001b[36m0:00:00\u001b[0m\n",
            "\u001b[2K   \u001b[90m━━━━━━━━━━━━━━━━━━━━━━━━━━━━━━━━━━━━━━━━\u001b[0m \u001b[32m1.2/1.2 MB\u001b[0m \u001b[31m32.4 MB/s\u001b[0m eta \u001b[36m0:00:00\u001b[0m\n",
            "\u001b[2K   \u001b[90m━━━━━━━━━━━━━━━━━━━━━━━━━━━━━━━━━━━━━━━━\u001b[0m \u001b[32m116.3/116.3 kB\u001b[0m \u001b[31m6.7 MB/s\u001b[0m eta \u001b[36m0:00:00\u001b[0m\n",
            "\u001b[2K   \u001b[90m━━━━━━━━━━━━━━━━━━━━━━━━━━━━━━━━━━━━━━━━\u001b[0m \u001b[32m76.4/76.4 kB\u001b[0m \u001b[31m5.1 MB/s\u001b[0m eta \u001b[36m0:00:00\u001b[0m\n",
            "\u001b[2K   \u001b[90m━━━━━━━━━━━━━━━━━━━━━━━━━━━━━━━━━━━━━━━━\u001b[0m \u001b[32m78.0/78.0 kB\u001b[0m \u001b[31m2.4 MB/s\u001b[0m eta \u001b[36m0:00:00\u001b[0m\n",
            "\u001b[2K   \u001b[90m━━━━━━━━━━━━━━━━━━━━━━━━━━━━━━━━━━━━━━━━\u001b[0m \u001b[32m326.6/326.6 kB\u001b[0m \u001b[31m16.8 MB/s\u001b[0m eta \u001b[36m0:00:00\u001b[0m\n",
            "\u001b[2K   \u001b[90m━━━━━━━━━━━━━━━━━━━━━━━━━━━━━━━━━━━━━━━━\u001b[0m \u001b[32m294.6/294.6 kB\u001b[0m \u001b[31m15.8 MB/s\u001b[0m eta \u001b[36m0:00:00\u001b[0m\n",
            "\u001b[2K   \u001b[90m━━━━━━━━━━━━━━━━━━━━━━━━━━━━━━━━━━━━━━━━\u001b[0m \u001b[32m134.8/134.8 kB\u001b[0m \u001b[31m8.1 MB/s\u001b[0m eta \u001b[36m0:00:00\u001b[0m\n",
            "\u001b[2K   \u001b[90m━━━━━━━━━━━━━━━━━━━━━━━━━━━━━━━━━━━━━━━━\u001b[0m \u001b[32m194.1/194.1 kB\u001b[0m \u001b[31m10.7 MB/s\u001b[0m eta \u001b[36m0:00:00\u001b[0m\n",
            "\u001b[2K   \u001b[90m━━━━━━━━━━━━━━━━━━━━━━━━━━━━━━━━━━━━━━━━\u001b[0m \u001b[32m49.3/49.3 kB\u001b[0m \u001b[31m3.0 MB/s\u001b[0m eta \u001b[36m0:00:00\u001b[0m\n",
            "\u001b[2K   \u001b[90m━━━━━━━━━━━━━━━━━━━━━━━━━━━━━━━━━━━━━━━━\u001b[0m \u001b[32m141.9/141.9 kB\u001b[0m \u001b[31m8.2 MB/s\u001b[0m eta \u001b[36m0:00:00\u001b[0m\n",
            "\u001b[2K   \u001b[90m━━━━━━━━━━━━━━━━━━━━━━━━━━━━━━━━━━━━━━━━\u001b[0m \u001b[32m54.5/54.5 kB\u001b[0m \u001b[31m4.4 MB/s\u001b[0m eta \u001b[36m0:00:00\u001b[0m\n",
            "\u001b[2K   \u001b[90m━━━━━━━━━━━━━━━━━━━━━━━━━━━━━━━━━━━━━━━━\u001b[0m \u001b[32m58.3/58.3 kB\u001b[0m \u001b[31m3.1 MB/s\u001b[0m eta \u001b[36m0:00:00\u001b[0m\n",
            "\u001b[?25h"
          ]
        }
      ],
      "source": [
        "# 1일차 수업을 위한 추가 모듈 설치\n",
        "!pip install torchinfo JAEN -qU"
      ]
    },
    {
      "cell_type": "markdown",
      "source": [
        "# Python Overview"
      ],
      "metadata": {
        "id": "DCHZpthYfod9"
      },
      "id": "DCHZpthYfod9"
    },
    {
      "cell_type": "markdown",
      "source": [
        " - 들여쓰기"
      ],
      "metadata": {
        "id": "3yOvEeq-g_Cg"
      },
      "id": "3yOvEeq-g_Cg"
    },
    {
      "cell_type": "code",
      "source": [
        "# Python: 들여쓰기로 코드 qmffhrdmf rnqns\n",
        "def check_numbers(numbers):\n",
        "    for number in numbers:\n",
        "        if number % 2 == 0:\n",
        "            print(f'{number} is even')\n",
        "        else:\n",
        "            print(f'{number} is odd')\n",
        "\n",
        "# 함수 호출\n",
        "numbers = [1,2,3,4,5]\n",
        "check_numbers(numbers)"
      ],
      "metadata": {
        "id": "F6MMoNEEgUj6",
        "colab": {
          "base_uri": "https://localhost:8080/"
        },
        "outputId": "fa15ed0a-19be-4344-a5cf-071cd8d9512a"
      },
      "id": "F6MMoNEEgUj6",
      "execution_count": null,
      "outputs": [
        {
          "output_type": "stream",
          "name": "stdout",
          "text": [
            "1 is odd\n",
            "2 is even\n",
            "3 is odd\n",
            "4 is even\n",
            "5 is odd\n"
          ]
        }
      ]
    },
    {
      "cell_type": "markdown",
      "source": [
        "- for 반복문"
      ],
      "metadata": {
        "id": "g8uuFdNJhJDd"
      },
      "id": "g8uuFdNJhJDd"
    },
    {
      "cell_type": "code",
      "source": [
        "for 변수 in 시퀀스:\n",
        "    실행할 코드"
      ],
      "metadata": {
        "id": "vLiaow5FhMPP"
      },
      "id": "vLiaow5FhMPP",
      "execution_count": null,
      "outputs": []
    },
    {
      "cell_type": "code",
      "source": [
        "numbers = [0,1,2,3,4]\n",
        "\n",
        "for number in numbers:\n",
        "    print(number)"
      ],
      "metadata": {
        "colab": {
          "base_uri": "https://localhost:8080/"
        },
        "id": "AdL3zNmShPJ3",
        "outputId": "01e80ab8-abd9-40be-f95c-f8f2aaee3b1f"
      },
      "id": "AdL3zNmShPJ3",
      "execution_count": null,
      "outputs": [
        {
          "output_type": "stream",
          "name": "stdout",
          "text": [
            "0\n",
            "1\n",
            "2\n",
            "3\n",
            "4\n"
          ]
        }
      ]
    },
    {
      "cell_type": "code",
      "source": [
        "for number in range(5):\n",
        "    print(number)"
      ],
      "metadata": {
        "colab": {
          "base_uri": "https://localhost:8080/"
        },
        "id": "LSP4GXa8hT6u",
        "outputId": "e8ba6517-a0a9-484b-daa0-33e4d195b0ba"
      },
      "id": "LSP4GXa8hT6u",
      "execution_count": null,
      "outputs": [
        {
          "output_type": "stream",
          "name": "stdout",
          "text": [
            "0\n",
            "1\n",
            "2\n",
            "3\n",
            "4\n"
          ]
        }
      ]
    },
    {
      "cell_type": "markdown",
      "source": [
        " - 함수"
      ],
      "metadata": {
        "id": "b01rlsaChgWh"
      },
      "id": "b01rlsaChgWh"
    },
    {
      "cell_type": "code",
      "source": [
        "def 함수이름(매개변수1, 매개변수2):\n",
        "    # 실행할 코드\n",
        "    return 반환값 # 선택 사항"
      ],
      "metadata": {
        "id": "WhClCTZgfniZ"
      },
      "id": "WhClCTZgfniZ",
      "execution_count": null,
      "outputs": []
    },
    {
      "cell_type": "code",
      "source": [
        "def add(a, b):\n",
        "    return a+b\n",
        "\n",
        "result = add(5, 3)\n",
        "print(result)"
      ],
      "metadata": {
        "colab": {
          "base_uri": "https://localhost:8080/"
        },
        "id": "EKislgwFhfrC",
        "outputId": "dc9dd29d-5abc-4384-d702-3d7448156b16"
      },
      "id": "EKislgwFhfrC",
      "execution_count": null,
      "outputs": [
        {
          "output_type": "stream",
          "name": "stdout",
          "text": [
            "8\n"
          ]
        }
      ]
    },
    {
      "cell_type": "code",
      "source": [
        "def welcome(name='Guest'):\n",
        "    return f'Welcome {name}!'\n",
        "\n",
        "print(welcome())\n",
        "print(welcome('to AI Essential'))"
      ],
      "metadata": {
        "colab": {
          "base_uri": "https://localhost:8080/"
        },
        "id": "FDXoCSzDhME_",
        "outputId": "80723d88-ccaf-4349-d8c0-cb9279d3ed24"
      },
      "id": "FDXoCSzDhME_",
      "execution_count": null,
      "outputs": [
        {
          "output_type": "stream",
          "name": "stdout",
          "text": [
            "Welcome Guest!\n",
            "Welcome to AI Essential!\n"
          ]
        }
      ]
    },
    {
      "cell_type": "markdown",
      "source": [
        "- 모듈"
      ],
      "metadata": {
        "id": "o7u_PCkoiAaF"
      },
      "id": "o7u_PCkoiAaF"
    },
    {
      "cell_type": "code",
      "source": [
        "%%writefile mymodule.py\n",
        "# mymodule.py\n",
        "def welcome(name='Guest'):\n",
        "    return f'Welcome {name}!'\n",
        "\n",
        "def add(a, b):\n",
        "    return a+b"
      ],
      "metadata": {
        "colab": {
          "base_uri": "https://localhost:8080/"
        },
        "id": "a9PIoZPViBO3",
        "outputId": "22bfaf44-b7b7-4fbd-f1c2-5dd354a9611e"
      },
      "id": "a9PIoZPViBO3",
      "execution_count": null,
      "outputs": [
        {
          "output_type": "stream",
          "name": "stdout",
          "text": [
            "Writing mymodule.py\n"
          ]
        }
      ]
    },
    {
      "cell_type": "code",
      "source": [
        "import mymodule\n",
        "\n",
        "print(mymodule.welcome('to AI Essential'))\n",
        "print(mymodule.add(3, 5))"
      ],
      "metadata": {
        "colab": {
          "base_uri": "https://localhost:8080/"
        },
        "id": "Wmm5sY51iKiG",
        "outputId": "c6565ed2-fac9-4ab6-b8b5-ad0518539eea"
      },
      "id": "Wmm5sY51iKiG",
      "execution_count": null,
      "outputs": [
        {
          "output_type": "stream",
          "name": "stdout",
          "text": [
            "Welcome to AI Essential!\n",
            "8\n"
          ]
        }
      ]
    },
    {
      "cell_type": "code",
      "source": [
        "import mymodule as mm\n",
        "\n",
        "print(mm.welcome('to AI Essential'))\n",
        "print(mm.add(3, 5))"
      ],
      "metadata": {
        "colab": {
          "base_uri": "https://localhost:8080/"
        },
        "id": "88arVyPtiWh3",
        "outputId": "d20f63d0-8eeb-4e73-d3fe-9b6686ba9962"
      },
      "id": "88arVyPtiWh3",
      "execution_count": null,
      "outputs": [
        {
          "output_type": "stream",
          "name": "stdout",
          "text": [
            "Welcome to AI Essential!\n",
            "8\n"
          ]
        }
      ]
    },
    {
      "cell_type": "markdown",
      "id": "06c38dbf-d691-489b-a500-f2f894592970",
      "metadata": {
        "id": "06c38dbf-d691-489b-a500-f2f894592970"
      },
      "source": [
        "# Pytorch Tensor"
      ]
    },
    {
      "cell_type": "code",
      "execution_count": null,
      "id": "b2704021-fe41-4c8b-b158-b3ca80b16897",
      "metadata": {
        "id": "b2704021-fe41-4c8b-b158-b3ca80b16897"
      },
      "outputs": [],
      "source": [
        "import torch  # PyTorch 라이브러리 임포트\n",
        "import numpy as np  # NumPy 라이브러리 임포트"
      ]
    },
    {
      "cell_type": "markdown",
      "id": "de289ceb-71bf-4d8b-81ea-cd32b2f91d23",
      "metadata": {
        "id": "de289ceb-71bf-4d8b-81ea-cd32b2f91d23"
      },
      "source": [
        "## Tensor 생성"
      ]
    },
    {
      "cell_type": "code",
      "execution_count": null,
      "id": "1ba20b14-8db2-4889-853d-5671fca8c35a",
      "metadata": {
        "id": "1ba20b14-8db2-4889-853d-5671fca8c35a",
        "outputId": "cc46f67b-d79b-4e9b-fe0a-0a8867027f5b",
        "colab": {
          "base_uri": "https://localhost:8080/",
          "height": 71
        }
      },
      "outputs": [
        {
          "output_type": "stream",
          "name": "stdout",
          "text": [
            "tensor([1., 2., 3.])\n"
          ]
        },
        {
          "output_type": "display_data",
          "data": {
            "text/plain": [
              "tensor([1., 2., 3.])"
            ]
          },
          "metadata": {}
        },
        {
          "output_type": "execute_result",
          "data": {
            "text/plain": [
              "tensor([2., 4., 6.])"
            ]
          },
          "metadata": {},
          "execution_count": 5
        }
      ],
      "source": [
        "# 1D 텐서 생성\n",
        "tensor_1d = torch.tensor([1., 2., 3.]) # 리스트를 이용한 텐서 생성\n",
        "print(tensor_1d) # 프린트로 출력\n",
        "display(tensor_1d) # 디스플레이로 출력\n",
        "# tensor_1d # 변수 보기 (셀의 마지막 줄에 변수만 입력)\n",
        "# 2D 텐서 생성\n",
        "tensor_2d = torch.tensor([[1., 2., 3.], [4., 5., 6.]])\n",
        "tensor_2d\n",
        "tensor_1d + tensor_1d # 텐서 출력(요소별 덧셈)"
      ]
    },
    {
      "cell_type": "code",
      "source": [
        "tensor_1d.shape # 형태 확인 -> 축 별 크기\n",
        "# torch.Size([3]) -> 차원이 1개, 해당 차원 크기(요소 개수)가 3"
      ],
      "metadata": {
        "colab": {
          "base_uri": "https://localhost:8080/"
        },
        "id": "UQDEnGqOeYFi",
        "outputId": "b636ea6d-2361-4679-c539-73c377aace65"
      },
      "id": "UQDEnGqOeYFi",
      "execution_count": null,
      "outputs": [
        {
          "output_type": "execute_result",
          "data": {
            "text/plain": [
              "torch.Size([3])"
            ]
          },
          "metadata": {},
          "execution_count": 6
        }
      ]
    },
    {
      "cell_type": "code",
      "source": [
        "tensor_2d.shape\n",
        "# torch.Size([2, 3]) -> 차원이 2개, 각각 2, 3개의 요소 -> 전체 요소 수는 6개"
      ],
      "metadata": {
        "colab": {
          "base_uri": "https://localhost:8080/"
        },
        "id": "0HRRbTKGebbH",
        "outputId": "0722c8e2-cf2e-416e-9a12-d07cdf36cec0"
      },
      "id": "0HRRbTKGebbH",
      "execution_count": null,
      "outputs": [
        {
          "output_type": "execute_result",
          "data": {
            "text/plain": [
              "torch.Size([2, 3])"
            ]
          },
          "metadata": {},
          "execution_count": 7
        }
      ]
    },
    {
      "cell_type": "code",
      "source": [
        "tensor_2d"
      ],
      "metadata": {
        "colab": {
          "base_uri": "https://localhost:8080/"
        },
        "id": "V2D4Kh4aeyOK",
        "outputId": "12d8b18d-61b1-4976-eb0e-7de8ee6a375e"
      },
      "id": "V2D4Kh4aeyOK",
      "execution_count": null,
      "outputs": [
        {
          "output_type": "execute_result",
          "data": {
            "text/plain": [
              "tensor([[1., 2., 3.],\n",
              "        [4., 5., 6.]])"
            ]
          },
          "metadata": {},
          "execution_count": 8
        }
      ]
    },
    {
      "cell_type": "code",
      "execution_count": null,
      "id": "013508de-8ff2-4031-966c-add3ed0dbc33",
      "metadata": {
        "id": "013508de-8ff2-4031-966c-add3ed0dbc33",
        "outputId": "2be902bb-125f-415a-8678-26f150f1b4ce",
        "colab": {
          "base_uri": "https://localhost:8080/"
        }
      },
      "outputs": [
        {
          "output_type": "execute_result",
          "data": {
            "text/plain": [
              "tensor([1., 2., 3.], dtype=torch.float64)"
            ]
          },
          "metadata": {},
          "execution_count": 9
        }
      ],
      "source": [
        "numpy_array = np.array([1, 2, 3])  # NumPy 배열 생성\n",
        "tensor_from_numpy = torch.tensor(numpy_array, dtype=torch.float64)  # NumPy 배열로부터 텐서 생성\n",
        "tensor_from_numpy # 텐서 출력"
      ]
    },
    {
      "cell_type": "markdown",
      "id": "12bc30ac-9df2-400b-86cc-5e6f6cb3ebe7",
      "metadata": {
        "id": "12bc30ac-9df2-400b-86cc-5e6f6cb3ebe7"
      },
      "source": [
        "## 랜덤 Tensor 생성 및 속성 변경"
      ]
    },
    {
      "cell_type": "code",
      "execution_count": null,
      "id": "d3da274f-37a5-454a-be73-c63efdda09e8",
      "metadata": {
        "id": "d3da274f-37a5-454a-be73-c63efdda09e8",
        "outputId": "03ac7089-cea0-4528-9440-d761657145ca",
        "colab": {
          "base_uri": "https://localhost:8080/"
        }
      },
      "outputs": [
        {
          "output_type": "execute_result",
          "data": {
            "text/plain": [
              "tensor([[0.4963, 0.7682, 0.0885],\n",
              "        [0.1320, 0.3074, 0.6341]])"
            ]
          },
          "metadata": {},
          "execution_count": 13
        }
      ],
      "source": [
        "# 2x3의 [0, 1) 범위에서 균일하게 분포된 난수로 초기화된 Tensor 생성\n",
        "# torch.rand(shape)\n",
        "# 시드 고정 방법\n",
        "# torch.manual_seed(정수) -> replay\n",
        "torch.manual_seed(0)\n",
        "rand_tensor = torch.rand((2, 3))\n",
        "rand_tensor"
      ]
    },
    {
      "cell_type": "code",
      "execution_count": null,
      "id": "648c4cb4-c038-40bc-beca-dd50c63dd89b",
      "metadata": {
        "id": "648c4cb4-c038-40bc-beca-dd50c63dd89b",
        "outputId": "af5e06ed-cf89-412c-889d-943631f61e63",
        "colab": {
          "base_uri": "https://localhost:8080/"
        }
      },
      "outputs": [
        {
          "output_type": "execute_result",
          "data": {
            "text/plain": [
              "tensor([[[-0.8265, -0.7949],\n",
              "         [-0.9528,  0.3717]],\n",
              "\n",
              "        [[ 0.4087,  1.4214],\n",
              "         [ 0.1494, -0.6709]]])"
            ]
          },
          "metadata": {},
          "execution_count": 16
        }
      ],
      "source": [
        "# 2x2의 표준 정규 분포를 따르는 난수로 초기화된 Tensor 생성\n",
        "randn_tensor = torch.randn((2, 2, 2))\n",
        "randn_tensor"
      ]
    },
    {
      "cell_type": "code",
      "source": [
        "t = torch.zeros((2, 3))\n",
        "t, t.dtype"
      ],
      "metadata": {
        "colab": {
          "base_uri": "https://localhost:8080/"
        },
        "id": "CamZMjGjgxwm",
        "outputId": "b72d4f2e-6c83-476e-80ee-48aff8f08637"
      },
      "id": "CamZMjGjgxwm",
      "execution_count": null,
      "outputs": [
        {
          "output_type": "execute_result",
          "data": {
            "text/plain": [
              "(tensor([[0., 0., 0.],\n",
              "         [0., 0., 0.]]),\n",
              " torch.float32)"
            ]
          },
          "metadata": {},
          "execution_count": 17
        }
      ]
    },
    {
      "cell_type": "code",
      "execution_count": null,
      "id": "9a47f005-83a0-4a1b-8865-e7462eba716d",
      "metadata": {
        "id": "9a47f005-83a0-4a1b-8865-e7462eba716d",
        "outputId": "68f807a0-1bc1-4d63-cbb8-47a75bdd5b4e",
        "colab": {
          "base_uri": "https://localhost:8080/"
        }
      },
      "outputs": [
        {
          "output_type": "execute_result",
          "data": {
            "text/plain": [
              "tensor([[0., 0., 0.],\n",
              "        [0., 0., 0.]], dtype=torch.float64)"
            ]
          },
          "metadata": {},
          "execution_count": 18
        }
      ],
      "source": [
        "# 2x2 텐서 생성, 데이터 타입을 float64로 지정\n",
        "tensor_with_dtype = torch.zeros((2, 3), dtype=torch.float64)\n",
        "tensor_with_dtype"
      ]
    },
    {
      "cell_type": "code",
      "source": [
        "tensor_with_dtype = torch.zeros((2, 3))\n",
        "tensor_with_dtype = tensor_with_dtype.to(torch.float64)\n",
        "tensor_with_dtype"
      ],
      "metadata": {
        "colab": {
          "base_uri": "https://localhost:8080/"
        },
        "id": "wlnR2Jc_hIG2",
        "outputId": "46bf25a2-6921-4ef3-af64-24c9f5601c23"
      },
      "id": "wlnR2Jc_hIG2",
      "execution_count": null,
      "outputs": [
        {
          "output_type": "execute_result",
          "data": {
            "text/plain": [
              "tensor([[0., 0., 0.],\n",
              "        [0., 0., 0.]], dtype=torch.float64)"
            ]
          },
          "metadata": {},
          "execution_count": 19
        }
      ]
    },
    {
      "cell_type": "code",
      "source": [
        "tensor_with_dtype = torch.zeros((2, 3))\n",
        "tensor_with_dtype = tensor_with_dtype.double()\n",
        "tensor_with_dtype"
      ],
      "metadata": {
        "colab": {
          "base_uri": "https://localhost:8080/"
        },
        "id": "Jd9xTseXhPcG",
        "outputId": "ffc8b310-9251-4f8b-d06b-e5d02fd1760a"
      },
      "id": "Jd9xTseXhPcG",
      "execution_count": null,
      "outputs": [
        {
          "output_type": "execute_result",
          "data": {
            "text/plain": [
              "tensor([[0., 0., 0.],\n",
              "        [0., 0., 0.]], dtype=torch.float64)"
            ]
          },
          "metadata": {},
          "execution_count": 20
        }
      ]
    },
    {
      "cell_type": "code",
      "source": [
        "# 장치 설정 방법\n",
        "# 1. torch.device 객체 생성\n",
        "display(torch.device('cuda'))\n",
        "# 2. 문자열 지정\n",
        "display('cpu')"
      ],
      "metadata": {
        "colab": {
          "base_uri": "https://localhost:8080/",
          "height": 53
        },
        "id": "B8FtMyK2h25o",
        "outputId": "3626868f-2256-4aa1-d7d9-2ba103f0b49f"
      },
      "id": "B8FtMyK2h25o",
      "execution_count": null,
      "outputs": [
        {
          "output_type": "display_data",
          "data": {
            "text/plain": [
              "device(type='cuda')"
            ]
          },
          "metadata": {}
        },
        {
          "output_type": "display_data",
          "data": {
            "text/plain": [
              "'cpu'"
            ],
            "application/vnd.google.colaboratory.intrinsic+json": {
              "type": "string"
            }
          },
          "metadata": {}
        }
      ]
    },
    {
      "cell_type": "code",
      "execution_count": null,
      "id": "299381c2-fd0c-45de-bace-d38fa3374490",
      "metadata": {
        "id": "299381c2-fd0c-45de-bace-d38fa3374490",
        "outputId": "c0c0fb7e-63cc-499f-d484-081c7bb631d6",
        "colab": {
          "base_uri": "https://localhost:8080/"
        }
      },
      "outputs": [
        {
          "output_type": "execute_result",
          "data": {
            "text/plain": [
              "tensor([[1., 1.],\n",
              "        [1., 1.]])"
            ]
          },
          "metadata": {},
          "execution_count": 26
        }
      ],
      "source": [
        "# 2x2 텐서 생성, GPU에서 사용하도록 장치를 지정 (CUDA가 가능한 경우)\n",
        "tensor_on_gpu = torch.ones((2, 2), device=torch.device('cpu'))\n",
        "tensor_on_gpu"
      ]
    },
    {
      "cell_type": "code",
      "source": [
        "# 하드웨어 세션이 변경되면 새로 실행\n",
        "import torch"
      ],
      "metadata": {
        "id": "fE_TDW24iskw"
      },
      "id": "fE_TDW24iskw",
      "execution_count": null,
      "outputs": []
    },
    {
      "cell_type": "code",
      "source": [
        "# 사용 가능한 장치\n",
        "# 1. cpu -> 메인 메모리에 저장\n",
        "# 2. cuda -> nvidia gpu\n",
        "#  - gpu 1개 -> cuda:0 = cuda\n",
        "#  - gpu n개 -> cuda:0~n-1\n",
        "tensor_on_gpu = torch.ones((2, 2), device='cuda')\n",
        "tensor_on_gpu"
      ],
      "metadata": {
        "colab": {
          "base_uri": "https://localhost:8080/",
          "height": 346
        },
        "collapsed": true,
        "id": "azZV-S5_iNtv",
        "outputId": "0934218c-6a03-46a0-8cfe-39df645ecad2"
      },
      "id": "azZV-S5_iNtv",
      "execution_count": null,
      "outputs": [
        {
          "output_type": "error",
          "ename": "RuntimeError",
          "evalue": "Found no NVIDIA driver on your system. Please check that you have an NVIDIA GPU and installed a driver from http://www.nvidia.com/Download/index.aspx",
          "traceback": [
            "\u001b[0;31m---------------------------------------------------------------------------\u001b[0m",
            "\u001b[0;31mRuntimeError\u001b[0m                              Traceback (most recent call last)",
            "\u001b[0;32m<ipython-input-2-5e49a4f4451f>\u001b[0m in \u001b[0;36m<cell line: 6>\u001b[0;34m()\u001b[0m\n\u001b[1;32m      4\u001b[0m \u001b[0;31m#  - gpu 1개 -> cuda:0 = cuda\u001b[0m\u001b[0;34m\u001b[0m\u001b[0;34m\u001b[0m\u001b[0m\n\u001b[1;32m      5\u001b[0m \u001b[0;31m#  - gpu n개 -> cuda:0~n-1\u001b[0m\u001b[0;34m\u001b[0m\u001b[0;34m\u001b[0m\u001b[0m\n\u001b[0;32m----> 6\u001b[0;31m \u001b[0mtensor_on_gpu\u001b[0m \u001b[0;34m=\u001b[0m \u001b[0mtorch\u001b[0m\u001b[0;34m.\u001b[0m\u001b[0mones\u001b[0m\u001b[0;34m(\u001b[0m\u001b[0;34m(\u001b[0m\u001b[0;36m2\u001b[0m\u001b[0;34m,\u001b[0m \u001b[0;36m2\u001b[0m\u001b[0;34m)\u001b[0m\u001b[0;34m,\u001b[0m \u001b[0mdevice\u001b[0m\u001b[0;34m=\u001b[0m\u001b[0;34m'cuda'\u001b[0m\u001b[0;34m)\u001b[0m\u001b[0;34m\u001b[0m\u001b[0;34m\u001b[0m\u001b[0m\n\u001b[0m\u001b[1;32m      7\u001b[0m \u001b[0mtensor_on_gpu\u001b[0m\u001b[0;34m\u001b[0m\u001b[0;34m\u001b[0m\u001b[0m\n",
            "\u001b[0;32m/usr/local/lib/python3.10/dist-packages/torch/cuda/__init__.py\u001b[0m in \u001b[0;36m_lazy_init\u001b[0;34m()\u001b[0m\n\u001b[1;32m    312\u001b[0m         \u001b[0;32mif\u001b[0m \u001b[0;34m\"CUDA_MODULE_LOADING\"\u001b[0m \u001b[0;32mnot\u001b[0m \u001b[0;32min\u001b[0m \u001b[0mos\u001b[0m\u001b[0;34m.\u001b[0m\u001b[0menviron\u001b[0m\u001b[0;34m:\u001b[0m\u001b[0;34m\u001b[0m\u001b[0;34m\u001b[0m\u001b[0m\n\u001b[1;32m    313\u001b[0m             \u001b[0mos\u001b[0m\u001b[0;34m.\u001b[0m\u001b[0menviron\u001b[0m\u001b[0;34m[\u001b[0m\u001b[0;34m\"CUDA_MODULE_LOADING\"\u001b[0m\u001b[0;34m]\u001b[0m \u001b[0;34m=\u001b[0m \u001b[0;34m\"LAZY\"\u001b[0m\u001b[0;34m\u001b[0m\u001b[0;34m\u001b[0m\u001b[0m\n\u001b[0;32m--> 314\u001b[0;31m         \u001b[0mtorch\u001b[0m\u001b[0;34m.\u001b[0m\u001b[0m_C\u001b[0m\u001b[0;34m.\u001b[0m\u001b[0m_cuda_init\u001b[0m\u001b[0;34m(\u001b[0m\u001b[0;34m)\u001b[0m\u001b[0;34m\u001b[0m\u001b[0;34m\u001b[0m\u001b[0m\n\u001b[0m\u001b[1;32m    315\u001b[0m         \u001b[0;31m# Some of the queued calls may reentrantly call _lazy_init();\u001b[0m\u001b[0;34m\u001b[0m\u001b[0;34m\u001b[0m\u001b[0m\n\u001b[1;32m    316\u001b[0m         \u001b[0;31m# we need to just return without initializing in that case.\u001b[0m\u001b[0;34m\u001b[0m\u001b[0;34m\u001b[0m\u001b[0m\n",
            "\u001b[0;31mRuntimeError\u001b[0m: Found no NVIDIA driver on your system. Please check that you have an NVIDIA GPU and installed a driver from http://www.nvidia.com/Download/index.aspx"
          ]
        }
      ]
    },
    {
      "cell_type": "code",
      "source": [
        "# 사용 가능한 장치 확인\n",
        "device = 'cuda' if torch.cuda.is_available() else 'cpu'\n",
        "device"
      ],
      "metadata": {
        "colab": {
          "base_uri": "https://localhost:8080/",
          "height": 35
        },
        "id": "e5OepyTji5St",
        "outputId": "aac94bd4-81bf-42d4-d762-46743849c41c"
      },
      "id": "e5OepyTji5St",
      "execution_count": null,
      "outputs": [
        {
          "output_type": "execute_result",
          "data": {
            "text/plain": [
              "'cpu'"
            ],
            "application/vnd.google.colaboratory.intrinsic+json": {
              "type": "string"
            }
          },
          "metadata": {},
          "execution_count": 3
        }
      ]
    },
    {
      "cell_type": "code",
      "source": [
        "tensor_on_gpu = torch.ones((2, 2), device=device)\n",
        "tensor_on_gpu"
      ],
      "metadata": {
        "colab": {
          "base_uri": "https://localhost:8080/"
        },
        "id": "VT3ZFwoEjV2X",
        "outputId": "821a9635-6f1c-410b-e46e-6f434ec852b2"
      },
      "id": "VT3ZFwoEjV2X",
      "execution_count": null,
      "outputs": [
        {
          "output_type": "execute_result",
          "data": {
            "text/plain": [
              "tensor([[1., 1.],\n",
              "        [1., 1.]])"
            ]
          },
          "metadata": {},
          "execution_count": 4
        }
      ]
    },
    {
      "cell_type": "code",
      "source": [
        "tensor_on_gpu = torch.ones((2, 2))\n",
        "tensor_on_gpu = tensor_on_gpu.to(device)\n",
        "tensor_on_gpu"
      ],
      "metadata": {
        "colab": {
          "base_uri": "https://localhost:8080/"
        },
        "id": "tCRdowBHjeF1",
        "outputId": "293b7a4c-75ac-4333-f599-fd63479babbb"
      },
      "id": "tCRdowBHjeF1",
      "execution_count": null,
      "outputs": [
        {
          "output_type": "execute_result",
          "data": {
            "text/plain": [
              "tensor([[1., 1.],\n",
              "        [1., 1.]])"
            ]
          },
          "metadata": {},
          "execution_count": 7
        }
      ]
    },
    {
      "cell_type": "code",
      "source": [
        "tensor_on_gpu = torch.ones((2, 2))\n",
        "tensor_on_gpu.cpu() # .cuda()"
      ],
      "metadata": {
        "colab": {
          "base_uri": "https://localhost:8080/"
        },
        "id": "aCqNjBbBjhMt",
        "outputId": "72413c09-346d-4375-d81d-8aa23ea18877"
      },
      "id": "aCqNjBbBjhMt",
      "execution_count": null,
      "outputs": [
        {
          "output_type": "execute_result",
          "data": {
            "text/plain": [
              "tensor([[1., 1.],\n",
              "        [1., 1.]])"
            ]
          },
          "metadata": {},
          "execution_count": 6
        }
      ]
    },
    {
      "cell_type": "code",
      "source": [
        "tensor_on_gpu = torch.ones((2, 2))\n",
        "tensor_on_gpu.cpu()"
      ],
      "metadata": {
        "colab": {
          "base_uri": "https://localhost:8080/"
        },
        "id": "prfHuzbiml2E",
        "outputId": "378f624c-294a-467e-a504-a0c272132d86"
      },
      "id": "prfHuzbiml2E",
      "execution_count": null,
      "outputs": [
        {
          "output_type": "execute_result",
          "data": {
            "text/plain": [
              "tensor([[1., 1.],\n",
              "        [1., 1.]])"
            ]
          },
          "metadata": {},
          "execution_count": 9
        }
      ]
    },
    {
      "cell_type": "code",
      "execution_count": null,
      "id": "a7cf5b49-609c-4fb2-ae74-2faf263fcaf8",
      "metadata": {
        "id": "a7cf5b49-609c-4fb2-ae74-2faf263fcaf8",
        "outputId": "80923ac9-a31a-4372-ae3f-710cbed539e3",
        "colab": {
          "base_uri": "https://localhost:8080/"
        }
      },
      "outputs": [
        {
          "output_type": "execute_result",
          "data": {
            "text/plain": [
              "tensor([[1., 1.],\n",
              "        [1., 1.]], requires_grad=True)"
            ]
          },
          "metadata": {},
          "execution_count": 21
        }
      ],
      "source": [
        "# 2x2 텐서 생성, 미분이 가능하도록 지정\n",
        "tensor_requires_grad =\n",
        "tensor_requires_grad"
      ]
    },
    {
      "cell_type": "markdown",
      "id": "1cb35639-7bdc-41e9-b75e-4317b85dd244",
      "metadata": {
        "id": "1cb35639-7bdc-41e9-b75e-4317b85dd244"
      },
      "source": [
        "## Tensor 재구조화\n",
        " - shape 변경 방법"
      ]
    },
    {
      "cell_type": "code",
      "execution_count": null,
      "id": "e4f19d3f-27a2-49c7-a11a-9b962b83ee83",
      "metadata": {
        "id": "e4f19d3f-27a2-49c7-a11a-9b962b83ee83",
        "outputId": "2fbc203d-98ab-4d01-d6d6-44e184a62898",
        "colab": {
          "base_uri": "https://localhost:8080/"
        }
      },
      "outputs": [
        {
          "output_type": "execute_result",
          "data": {
            "text/plain": [
              "(torch.Size([10, 64, 7, 7]), torch.Size([10, 3136]), torch.Size([10, 3136]))"
            ]
          },
          "metadata": {},
          "execution_count": 11
        }
      ],
      "source": [
        "# reshape 메소드\n",
        "# t = t.reshape(축 별 크기)\n",
        "# 원본 t의 요소 개수와 변환될 t의 요소 개수가 일치\n",
        "x = torch.randn(10, 64, 7, 7)  # 4차원 텐서 생성: (10, 64, 7, 7)\n",
        "y = x.reshape(10, 64*7*7)   # 텐서를 (10, 64 * 7 * 7)으로 변환, 즉 2차원 텐서로 변경\n",
        "y1 = x.reshape(10, -1)  # -1은 나머지 차원을 자동으로 계산하게 하여 (10, 3136)으로 변경\n",
        "x.shape, y.shape, y1.shape                        # y의 차원은 (10, 3136)"
      ]
    },
    {
      "cell_type": "code",
      "source": [
        "y2 = x.reshape(-1) # 1D 텐서 변경은 -1만 입력\n",
        "y2.shape"
      ],
      "metadata": {
        "colab": {
          "base_uri": "https://localhost:8080/"
        },
        "id": "7isobuAnnzc9",
        "outputId": "5233bff0-dfb2-4175-bde3-d02d2cab5dfb"
      },
      "id": "7isobuAnnzc9",
      "execution_count": null,
      "outputs": [
        {
          "output_type": "execute_result",
          "data": {
            "text/plain": [
              "torch.Size([31360])"
            ]
          },
          "metadata": {},
          "execution_count": 16
        }
      ]
    },
    {
      "cell_type": "code",
      "source": [
        "t = torch.tensor([1,2,3,4])\n",
        "t.reshape(1, 4) # 문항 4개, 응답자 1명"
      ],
      "metadata": {
        "colab": {
          "base_uri": "https://localhost:8080/"
        },
        "id": "_g86Sz0NoTFF",
        "outputId": "1514eb7d-6b7d-4af8-8b26-48698f273ebe"
      },
      "id": "_g86Sz0NoTFF",
      "execution_count": null,
      "outputs": [
        {
          "output_type": "execute_result",
          "data": {
            "text/plain": [
              "tensor([[1, 2, 3, 4]])"
            ]
          },
          "metadata": {},
          "execution_count": 19
        }
      ]
    },
    {
      "cell_type": "code",
      "source": [
        "t = torch.tensor([1,2,3,4])\n",
        "t.reshape(4, 1) # 문항 1개, 응답자 4명"
      ],
      "metadata": {
        "colab": {
          "base_uri": "https://localhost:8080/"
        },
        "id": "E3LW0touo7-U",
        "outputId": "ec207adf-5590-4429-c53d-febda1608881"
      },
      "id": "E3LW0touo7-U",
      "execution_count": null,
      "outputs": [
        {
          "output_type": "execute_result",
          "data": {
            "text/plain": [
              "tensor([[1],\n",
              "        [2],\n",
              "        [3],\n",
              "        [4]])"
            ]
          },
          "metadata": {},
          "execution_count": 20
        }
      ]
    },
    {
      "cell_type": "code",
      "source": [
        "t = torch.tensor([1,2,3,4,5,6]).reshape(2,3)\n",
        "t"
      ],
      "metadata": {
        "colab": {
          "base_uri": "https://localhost:8080/"
        },
        "id": "aVXJq5u4qCAM",
        "outputId": "5c9fd772-a2ee-48ff-f509-4db28c5b5938"
      },
      "id": "aVXJq5u4qCAM",
      "execution_count": null,
      "outputs": [
        {
          "output_type": "execute_result",
          "data": {
            "text/plain": [
              "tensor([[1, 2, 3],\n",
              "        [4, 5, 6]])"
            ]
          },
          "metadata": {},
          "execution_count": 25
        }
      ]
    },
    {
      "cell_type": "code",
      "source": [
        "t.reshape(3, 2)"
      ],
      "metadata": {
        "colab": {
          "base_uri": "https://localhost:8080/"
        },
        "id": "w9lKanqbqUo7",
        "outputId": "c75caeb1-7e47-4c40-ddbe-f4065efdf795"
      },
      "id": "w9lKanqbqUo7",
      "execution_count": null,
      "outputs": [
        {
          "output_type": "execute_result",
          "data": {
            "text/plain": [
              "tensor([[1, 2],\n",
              "        [3, 4],\n",
              "        [5, 6]])"
            ]
          },
          "metadata": {},
          "execution_count": 28
        }
      ]
    },
    {
      "cell_type": "code",
      "source": [
        "t.transpose(0, 1)"
      ],
      "metadata": {
        "colab": {
          "base_uri": "https://localhost:8080/"
        },
        "id": "qht8zNEIqW47",
        "outputId": "c1f05615-5df3-4533-f71f-dc87d17516ab"
      },
      "id": "qht8zNEIqW47",
      "execution_count": null,
      "outputs": [
        {
          "output_type": "execute_result",
          "data": {
            "text/plain": [
              "tensor([[1, 4],\n",
              "        [2, 5],\n",
              "        [3, 6]])"
            ]
          },
          "metadata": {},
          "execution_count": 29
        }
      ]
    },
    {
      "cell_type": "code",
      "execution_count": null,
      "id": "26b7365b-0143-4ece-bcff-6841c3d9375c",
      "metadata": {
        "id": "26b7365b-0143-4ece-bcff-6841c3d9375c",
        "outputId": "ce582b43-d353-44d8-bd61-cca408f8841c",
        "colab": {
          "base_uri": "https://localhost:8080/"
        }
      },
      "outputs": [
        {
          "output_type": "execute_result",
          "data": {
            "text/plain": [
              "torch.Size([10, 3, 5])"
            ]
          },
          "metadata": {},
          "execution_count": 21
        }
      ],
      "source": [
        "x = torch.randn(10, 5, 3)      # 3차원 텐서 생성: (10, 5, 3)\n",
        "y = x.transpose(1, 2)          # 두 번째 차원(5)과 세 번째 차원(3)을 교환, (10, 3, 5)\n",
        "y.shape                        # y의 차원은 (10, 3, 5)"
      ]
    },
    {
      "cell_type": "code",
      "execution_count": null,
      "id": "efa3aec3-b71f-437d-89d9-e5c8cdb97d28",
      "metadata": {
        "id": "efa3aec3-b71f-437d-89d9-e5c8cdb97d28",
        "outputId": "78d7ba64-6e61-4d10-8af6-04ab68f8e3f2",
        "colab": {
          "base_uri": "https://localhost:8080/"
        }
      },
      "outputs": [
        {
          "output_type": "execute_result",
          "data": {
            "text/plain": [
              "torch.Size([10, 28, 3, 28])"
            ]
          },
          "metadata": {},
          "execution_count": 30
        }
      ],
      "source": [
        "# 모든 축의 크기를 변경 가능한 전치\n",
        "x = torch.randn(10, 28, 28, 3)  # 4차원 텐서 생성: (10, 28, 28, 3)\n",
        "y = x.permute(0, 2, 3, 1)       # 차원의 순서를 (10, 3, 28, 28)로 재배열\n",
        "y.shape                         # y의 차원은 (10, 3, 28, 28)"
      ]
    },
    {
      "cell_type": "code",
      "execution_count": null,
      "id": "442c8a7e-e5cf-42c5-a43f-56e1948b3fe5",
      "metadata": {
        "id": "442c8a7e-e5cf-42c5-a43f-56e1948b3fe5",
        "outputId": "387d8b66-aaa2-4bf6-e18b-a7eab85ebf19",
        "colab": {
          "base_uri": "https://localhost:8080/"
        },
        "collapsed": true
      },
      "outputs": [
        {
          "output_type": "execute_result",
          "data": {
            "text/plain": [
              "torch.Size([3, 5])"
            ]
          },
          "metadata": {},
          "execution_count": 32
        }
      ],
      "source": [
        "# 크기 1인 축을 제거\n",
        "# x.squeeze() -> 모든 1인 축을 삭제\n",
        "# x.squeeze(축) -> 해당 축이 1인 경우 삭제\n",
        "x = torch.randn(1, 3, 1, 5)    # 4차원 텐서 생성: (1, 3, 1, 5), 1차원(크기 1)인 축이 존재\n",
        "y =  x.squeeze()   # 크기 1인 차원들을 제거: (3, 5)\n",
        "y.shape                        # 결과 텐서의 차원은 (3, 5)"
      ]
    },
    {
      "cell_type": "code",
      "source": [
        "# 특정 축 지정\n",
        "x.squeeze(2).shape"
      ],
      "metadata": {
        "colab": {
          "base_uri": "https://localhost:8080/"
        },
        "id": "_mdBOd0VsALa",
        "outputId": "bc6e5bef-56be-492b-8296-236701d97138"
      },
      "id": "_mdBOd0VsALa",
      "execution_count": null,
      "outputs": [
        {
          "output_type": "execute_result",
          "data": {
            "text/plain": [
              "torch.Size([1, 3, 5])"
            ]
          },
          "metadata": {},
          "execution_count": 34
        }
      ]
    },
    {
      "cell_type": "code",
      "source": [
        "# reshape과 결과 동일\n",
        "x.reshape(3, 5).shape"
      ],
      "metadata": {
        "colab": {
          "base_uri": "https://localhost:8080/"
        },
        "id": "GIs3nH8isIYT",
        "outputId": "c0c5dee6-005d-4074-ffa0-6f033aa70c23"
      },
      "id": "GIs3nH8isIYT",
      "execution_count": null,
      "outputs": [
        {
          "output_type": "execute_result",
          "data": {
            "text/plain": [
              "torch.Size([3, 5])"
            ]
          },
          "metadata": {},
          "execution_count": 36
        }
      ]
    },
    {
      "cell_type": "code",
      "source": [
        "x.reshape(1, 3, 5).shape"
      ],
      "metadata": {
        "colab": {
          "base_uri": "https://localhost:8080/"
        },
        "id": "Gsc_7zDSsLU6",
        "outputId": "2da5ffa1-89bf-40e0-aabc-0d2f7fc208d9"
      },
      "id": "Gsc_7zDSsLU6",
      "execution_count": null,
      "outputs": [
        {
          "output_type": "execute_result",
          "data": {
            "text/plain": [
              "torch.Size([1, 3, 5])"
            ]
          },
          "metadata": {},
          "execution_count": 37
        }
      ]
    },
    {
      "cell_type": "code",
      "execution_count": null,
      "id": "ce154b03-625c-4937-a4e7-377ced636a4c",
      "metadata": {
        "id": "ce154b03-625c-4937-a4e7-377ced636a4c",
        "outputId": "dacf83ef-8f2c-4dd7-a888-5b0d1ff24028",
        "colab": {
          "base_uri": "https://localhost:8080/"
        }
      },
      "outputs": [
        {
          "output_type": "execute_result",
          "data": {
            "text/plain": [
              "torch.Size([1, 3, 5])"
            ]
          },
          "metadata": {},
          "execution_count": 38
        }
      ],
      "source": [
        "x = torch.randn(3, 5)          # 2차원 텐서 생성: (3, 5)\n",
        "y = x.unsqueeze(0)             # 0번째 차원에 새 차원 추가: (1, 3, 5)\n",
        "y.shape                        # 결과 텐서의 차원은 (1, 3, 5)"
      ]
    },
    {
      "cell_type": "code",
      "source": [
        "x.unsqueeze(0).shape"
      ],
      "metadata": {
        "colab": {
          "base_uri": "https://localhost:8080/"
        },
        "id": "O7G-DJ7dsXCM",
        "outputId": "d5bcdbcf-b70e-4b46-c9f2-65e44ef78837"
      },
      "id": "O7G-DJ7dsXCM",
      "execution_count": null,
      "outputs": [
        {
          "output_type": "execute_result",
          "data": {
            "text/plain": [
              "torch.Size([1, 3, 5])"
            ]
          },
          "metadata": {},
          "execution_count": 43
        }
      ]
    },
    {
      "cell_type": "code",
      "source": [
        "x.reshape(1,3,5).shape"
      ],
      "metadata": {
        "colab": {
          "base_uri": "https://localhost:8080/"
        },
        "id": "vZrYbapisZ77",
        "outputId": "449850bf-d63d-476e-fac8-ae464bc07b49"
      },
      "id": "vZrYbapisZ77",
      "execution_count": null,
      "outputs": [
        {
          "output_type": "execute_result",
          "data": {
            "text/plain": [
              "torch.Size([1, 3, 5])"
            ]
          },
          "metadata": {},
          "execution_count": 45
        }
      ]
    },
    {
      "cell_type": "markdown",
      "id": "369734a4-ac67-4924-82c3-c0ca284e0138",
      "metadata": {
        "id": "369734a4-ac67-4924-82c3-c0ca284e0138"
      },
      "source": [
        "## Tensor 데이터 선택"
      ]
    },
    {
      "cell_type": "code",
      "execution_count": null,
      "id": "23c3b7e1-dd54-45dc-a9df-65427aa89060",
      "metadata": {
        "id": "23c3b7e1-dd54-45dc-a9df-65427aa89060",
        "outputId": "c7a2c3b4-f6f8-47ae-a714-8c051b90ec2b",
        "colab": {
          "base_uri": "https://localhost:8080/"
        }
      },
      "outputs": [
        {
          "output_type": "execute_result",
          "data": {
            "text/plain": [
              "tensor(10)"
            ]
          },
          "metadata": {},
          "execution_count": 46
        }
      ],
      "source": [
        "# 1D 텐서 생성\n",
        "tensor_1d = torch.tensor([10, 20, 30, 40])\n",
        "\n",
        "# 첫 번째 요소 선택 (Python 인덱스는 0부터 시작)\n",
        "# 출력: tensor(10)\n",
        "# 인덱싱 -> 특정 축의 요소 1개를 추출\n",
        "# 양수 인덱스는 0~n-1\n",
        "tensor_1d[0]"
      ]
    },
    {
      "cell_type": "code",
      "execution_count": null,
      "id": "7e6c3d29-2afe-4ec6-bfc6-e80bdbe70c0f",
      "metadata": {
        "id": "7e6c3d29-2afe-4ec6-bfc6-e80bdbe70c0f",
        "outputId": "f6c4bd72-1e71-4f00-e849-faef37362d16",
        "colab": {
          "base_uri": "https://localhost:8080/"
        }
      },
      "outputs": [
        {
          "output_type": "execute_result",
          "data": {
            "text/plain": [
              "tensor(40)"
            ]
          },
          "metadata": {},
          "execution_count": 48
        }
      ],
      "source": [
        "# 마지막 요소 선택\n",
        "# 출력: tensor(40)\n",
        "# 음수 인덱스는 -n~-1\n",
        "tensor_1d[-1]"
      ]
    },
    {
      "cell_type": "code",
      "execution_count": null,
      "id": "a11015fb-5cd2-4a78-8742-829752988f76",
      "metadata": {
        "id": "a11015fb-5cd2-4a78-8742-829752988f76",
        "outputId": "822b51f4-5631-4154-9e7a-33a88a3a2f3c",
        "colab": {
          "base_uri": "https://localhost:8080/"
        }
      },
      "outputs": [
        {
          "output_type": "stream",
          "name": "stdout",
          "text": [
            "tensor([[1, 2, 3],\n",
            "        [4, 5, 6],\n",
            "        [7, 8, 9]])\n"
          ]
        },
        {
          "output_type": "execute_result",
          "data": {
            "text/plain": [
              "tensor(2)"
            ]
          },
          "metadata": {},
          "execution_count": 51
        }
      ],
      "source": [
        "# 2D 텐서 생성\n",
        "tensor_2d = torch.tensor([[1, 2, 3], [4, 5, 6], [7, 8, 9]])\n",
        "print(tensor_2d)\n",
        "\n",
        "# 첫 번째 행, 두 번째 열 요소 선택\n",
        "# 출력: tensor(2)\n",
        "# 2d 이상의 인덱싱\n",
        "# tensor[ axis=0의 인덱스 ,  axis=1의 인덱스 ] # 각 축 별로 인덱스를 지정할 수 있음\n",
        "# 인덱싱은 차원을 낮춤 -> 1회 1차원씩 감소\n",
        "tensor_2d[0, 1]"
      ]
    },
    {
      "cell_type": "code",
      "source": [
        "tensor_2d[0][1] # 가능O, 사용X -> 1차원 액세스를 두 번 중첩"
      ],
      "metadata": {
        "colab": {
          "base_uri": "https://localhost:8080/"
        },
        "id": "dcH4axupuEmN",
        "outputId": "0698242f-48df-42bc-cc42-711ef55ae6a3"
      },
      "id": "dcH4axupuEmN",
      "execution_count": null,
      "outputs": [
        {
          "output_type": "execute_result",
          "data": {
            "text/plain": [
              "tensor(2)"
            ]
          },
          "metadata": {},
          "execution_count": 52
        }
      ]
    },
    {
      "cell_type": "code",
      "execution_count": null,
      "id": "1c688b63-b613-4a84-b21a-70bc245b32e6",
      "metadata": {
        "id": "1c688b63-b613-4a84-b21a-70bc245b32e6",
        "outputId": "5726467a-29b2-4234-fc3e-1d0666ef4460",
        "colab": {
          "base_uri": "https://localhost:8080/"
        }
      },
      "outputs": [
        {
          "output_type": "execute_result",
          "data": {
            "text/plain": [
              "tensor(9)"
            ]
          },
          "metadata": {},
          "execution_count": 30
        }
      ],
      "source": [
        "# 마지막 행, 마지막 열 요소 선택\n",
        "# 출력: tensor(9)"
      ]
    },
    {
      "cell_type": "code",
      "execution_count": null,
      "id": "47cbfc74-f06b-48bf-ba66-73b721e69229",
      "metadata": {
        "id": "47cbfc74-f06b-48bf-ba66-73b721e69229",
        "outputId": "942a3a86-2c3f-42b5-e486-5239c8d928ec",
        "colab": {
          "base_uri": "https://localhost:8080/"
        }
      },
      "outputs": [
        {
          "output_type": "execute_result",
          "data": {
            "text/plain": [
              "tensor([[4, 5],\n",
              "        [7, 8]])"
            ]
          },
          "metadata": {},
          "execution_count": 55
        }
      ],
      "source": [
        "# 처음부터 인덱스 3까지의 요소 선택\n",
        "# 출력: tensor([10, 20, 30, 40])\n",
        "# 슬라이싱: 인덱스 자리에 슬라이스를 전달\n",
        "# 슬라이스: start, stop(미포함), step으로 구성된 일종의 범위\n",
        "tensor_2d = torch.tensor([[1,2,3], [4,5,6], [7,8,9]])\n",
        "tensor_2d[1:3:1, 0:2:1]"
      ]
    },
    {
      "cell_type": "code",
      "source": [
        "tensor_2d[1:3, 0:2] # step=1은 생략 가능"
      ],
      "metadata": {
        "colab": {
          "base_uri": "https://localhost:8080/"
        },
        "id": "JYSaoZK5vGH7",
        "outputId": "30c26b23-fcb5-499c-8c4e-b17f6576398c"
      },
      "id": "JYSaoZK5vGH7",
      "execution_count": null,
      "outputs": [
        {
          "output_type": "execute_result",
          "data": {
            "text/plain": [
              "tensor([[4, 5],\n",
              "        [7, 8]])"
            ]
          },
          "metadata": {},
          "execution_count": 57
        }
      ]
    },
    {
      "cell_type": "code",
      "source": [
        "tensor_2d[1:3, :2] #start=0은 생략 가능 (처음부터)"
      ],
      "metadata": {
        "colab": {
          "base_uri": "https://localhost:8080/"
        },
        "id": "u45C8PNVvUvI",
        "outputId": "7438e7fc-84ab-4065-ecdc-2aed167d15cd"
      },
      "id": "u45C8PNVvUvI",
      "execution_count": null,
      "outputs": [
        {
          "output_type": "execute_result",
          "data": {
            "text/plain": [
              "tensor([[4, 5],\n",
              "        [7, 8]])"
            ]
          },
          "metadata": {},
          "execution_count": 58
        }
      ]
    },
    {
      "cell_type": "code",
      "source": [
        "tensor_2d[1:, :2] #stop이 최대 인덱스보다 크면 생략 가능 (끝까지)"
      ],
      "metadata": {
        "colab": {
          "base_uri": "https://localhost:8080/"
        },
        "id": "NCbq9FnPvY4X",
        "outputId": "e0575eb0-469d-4bcf-898d-707c4d54aa28"
      },
      "id": "NCbq9FnPvY4X",
      "execution_count": null,
      "outputs": [
        {
          "output_type": "execute_result",
          "data": {
            "text/plain": [
              "tensor([[4, 5],\n",
              "        [7, 8]])"
            ]
          },
          "metadata": {},
          "execution_count": 60
        }
      ]
    },
    {
      "cell_type": "code",
      "source": [
        "tensor_2d[0, :] # 첫 번째 행 선택 -> 0번 축의 0번 요소를 추출"
      ],
      "metadata": {
        "colab": {
          "base_uri": "https://localhost:8080/"
        },
        "id": "n0sFP6ZNv45Z",
        "outputId": "f742dc67-ca90-4e6e-b593-80d20eccb8a6"
      },
      "id": "n0sFP6ZNv45Z",
      "execution_count": null,
      "outputs": [
        {
          "output_type": "execute_result",
          "data": {
            "text/plain": [
              "tensor([1, 2, 3])"
            ]
          },
          "metadata": {},
          "execution_count": 61
        }
      ]
    },
    {
      "cell_type": "code",
      "source": [
        "tensor_2d[:, -1] # 마지막 열 선택 -> 1번 축의 마지막 요소를 추출"
      ],
      "metadata": {
        "colab": {
          "base_uri": "https://localhost:8080/"
        },
        "id": "rrqOccaUwHJP",
        "outputId": "849cb068-dbb1-4099-9970-c73ea19dd9cf"
      },
      "id": "rrqOccaUwHJP",
      "execution_count": null,
      "outputs": [
        {
          "output_type": "execute_result",
          "data": {
            "text/plain": [
              "tensor([3, 6, 9])"
            ]
          },
          "metadata": {},
          "execution_count": 62
        }
      ]
    },
    {
      "cell_type": "code",
      "source": [
        "tensor_2d"
      ],
      "metadata": {
        "colab": {
          "base_uri": "https://localhost:8080/"
        },
        "id": "-yYsmYm9ww65",
        "outputId": "8ca0277c-46af-47e4-a263-8d56d016d865"
      },
      "id": "-yYsmYm9ww65",
      "execution_count": null,
      "outputs": [
        {
          "output_type": "execute_result",
          "data": {
            "text/plain": [
              "tensor([[1, 2, 3],\n",
              "        [4, 5, 6],\n",
              "        [7, 8, 9]])"
            ]
          },
          "metadata": {},
          "execution_count": 68
        }
      ]
    },
    {
      "cell_type": "code",
      "source": [
        "tensor_2d[1:3:1, 0:2:1]"
      ],
      "metadata": {
        "colab": {
          "base_uri": "https://localhost:8080/"
        },
        "id": "GenNiX4Owj9J",
        "outputId": "b5730cc6-ef9a-457c-e37b-1023c0497283"
      },
      "id": "GenNiX4Owj9J",
      "execution_count": null,
      "outputs": [
        {
          "output_type": "execute_result",
          "data": {
            "text/plain": [
              "tensor([[4, 5],\n",
              "        [7, 8]])"
            ]
          },
          "metadata": {},
          "execution_count": 66
        }
      ]
    },
    {
      "cell_type": "code",
      "source": [
        "tensor_2d[1:3:1][0:2:1]"
      ],
      "metadata": {
        "colab": {
          "base_uri": "https://localhost:8080/"
        },
        "id": "CS9rkyh0wt18",
        "outputId": "efee7c27-ae48-4620-f533-4001b3ebc185"
      },
      "id": "CS9rkyh0wt18",
      "execution_count": null,
      "outputs": [
        {
          "output_type": "execute_result",
          "data": {
            "text/plain": [
              "tensor([[4, 5, 6],\n",
              "        [7, 8, 9]])"
            ]
          },
          "metadata": {},
          "execution_count": 67
        }
      ]
    },
    {
      "cell_type": "code",
      "source": [
        "# (10, 5, 64) -> 10=sample, 5=time step, 64=변수 개수\n",
        "# t[:, -1, :] -> 마지막 스텝의 데이터만 추출"
      ],
      "metadata": {
        "id": "YpUOlzMdxO2J"
      },
      "id": "YpUOlzMdxO2J",
      "execution_count": null,
      "outputs": []
    },
    {
      "cell_type": "code",
      "execution_count": null,
      "id": "8ccb51cb-80a5-48cd-bb32-ef9152d8143e",
      "metadata": {
        "id": "8ccb51cb-80a5-48cd-bb32-ef9152d8143e",
        "outputId": "b1172232-6512-4cde-a324-bdf19c341b00",
        "colab": {
          "base_uri": "https://localhost:8080/"
        }
      },
      "outputs": [
        {
          "output_type": "execute_result",
          "data": {
            "text/plain": [
              "tensor([30, 40])"
            ]
          },
          "metadata": {},
          "execution_count": 32
        }
      ],
      "source": [
        "# 인덱스 2부터 끝까지의 요소 선택\n",
        "# 출력: tensor([30, 40])"
      ]
    },
    {
      "cell_type": "code",
      "execution_count": null,
      "id": "c07952e5-beb6-4125-8bd0-53a28965b479",
      "metadata": {
        "id": "c07952e5-beb6-4125-8bd0-53a28965b479",
        "outputId": "ff69fecb-17c9-4efd-d329-2badc4e48bf7",
        "colab": {
          "base_uri": "https://localhost:8080/"
        }
      },
      "outputs": [
        {
          "output_type": "execute_result",
          "data": {
            "text/plain": [
              "tensor([1, 2, 3])"
            ]
          },
          "metadata": {},
          "execution_count": 33
        }
      ],
      "source": [
        "# 2D 텐서 슬라이싱\n",
        "tensor_2d = torch.tensor([[1, 2, 3], [4, 5, 6], [7, 8, 9]])\n",
        "\n",
        "# 첫 번째 행 선택\n",
        "# 출력: tensor([1, 2, 3])"
      ]
    },
    {
      "cell_type": "code",
      "execution_count": null,
      "id": "92a6eac5-5a58-412b-89af-c381749fa303",
      "metadata": {
        "id": "92a6eac5-5a58-412b-89af-c381749fa303",
        "outputId": "6788e3f3-cc17-4bfb-afe4-7222dda41358",
        "colab": {
          "base_uri": "https://localhost:8080/"
        }
      },
      "outputs": [
        {
          "output_type": "execute_result",
          "data": {
            "text/plain": [
              "tensor([1, 4, 7])"
            ]
          },
          "metadata": {},
          "execution_count": 34
        }
      ],
      "source": [
        "# 첫 번째 열 선택\n",
        "# 출력: tensor([1, 4, 7])"
      ]
    },
    {
      "cell_type": "code",
      "execution_count": null,
      "id": "57282c49-da35-4908-821b-1697d78e71e1",
      "metadata": {
        "id": "57282c49-da35-4908-821b-1697d78e71e1",
        "outputId": "624cb912-dd30-462f-fa84-b68fc2a4c99f",
        "colab": {
          "base_uri": "https://localhost:8080/"
        }
      },
      "outputs": [
        {
          "output_type": "execute_result",
          "data": {
            "text/plain": [
              "tensor([[1, 2, 3],\n",
              "        [4, 5, 6]])"
            ]
          },
          "metadata": {},
          "execution_count": 35
        }
      ],
      "source": [
        "# 첫 번째와 두 번째 행 선택\n",
        "# 출력: tensor([[1, 2, 3],\n",
        "#               [4, 5, 6]])"
      ]
    },
    {
      "cell_type": "code",
      "source": [
        "import torch"
      ],
      "metadata": {
        "id": "E_y2E6OMCL70"
      },
      "id": "E_y2E6OMCL70",
      "execution_count": null,
      "outputs": []
    },
    {
      "cell_type": "markdown",
      "id": "085d2714-9cfb-4b00-a7bb-934c406214d8",
      "metadata": {
        "id": "085d2714-9cfb-4b00-a7bb-934c406214d8"
      },
      "source": [
        "## Tensor 데이터 수정"
      ]
    },
    {
      "cell_type": "code",
      "execution_count": null,
      "id": "e2ad48ad-0141-47ba-9f6d-2dcb5dec1444",
      "metadata": {
        "id": "e2ad48ad-0141-47ba-9f6d-2dcb5dec1444",
        "outputId": "700cc820-4b2a-43bd-db52-d8799bbcbcd5",
        "colab": {
          "base_uri": "https://localhost:8080/"
        }
      },
      "outputs": [
        {
          "output_type": "stream",
          "name": "stdout",
          "text": [
            "tensor([100,  20,  30,  40,  50])\n"
          ]
        }
      ],
      "source": [
        "# 1D 텐서 생성\n",
        "tensor = torch.tensor([10, 20, 30, 40, 50])\n",
        "\n",
        "# 데이터 수정 -> 데이터 선택 = 대입\n",
        "\n",
        "# 인덱스 0 위치의 요소 수정\n",
        "tensor[0] = 100 # 1개 요소 선택 후 1개 값 대입\n",
        "print(tensor)  # 출력: tensor([100,  20,  30,  40,  50])"
      ]
    },
    {
      "cell_type": "code",
      "execution_count": null,
      "id": "299af201-7e93-48a8-8760-5a72f1e45a46",
      "metadata": {
        "id": "299af201-7e93-48a8-8760-5a72f1e45a46",
        "outputId": "d4156cb7-cfdd-49de-a9f6-8d58e3d380e6",
        "colab": {
          "base_uri": "https://localhost:8080/"
        }
      },
      "outputs": [
        {
          "output_type": "stream",
          "name": "stdout",
          "text": [
            "tensor([100, 200, 300, 400,  50])\n"
          ]
        }
      ],
      "source": [
        "# 인덱스 1부터 3까지의 요소 수정\n",
        "# 끝은 미포함 12까지 추출하려면 1:4 지정\n",
        "tensor[1:4] = torch.tensor([200, 300, 400]) # n개 선택하여 n개 데이터 대입\n",
        "print(tensor)  # 출력: tensor([100, 200, 300, 400,  50])"
      ]
    },
    {
      "cell_type": "code",
      "execution_count": null,
      "id": "b6a44e78-11b2-4af3-9fd4-7b4710bec51f",
      "metadata": {
        "id": "b6a44e78-11b2-4af3-9fd4-7b4710bec51f",
        "outputId": "08bb9d2f-f58c-4b76-b42f-cc0489dfece7",
        "colab": {
          "base_uri": "https://localhost:8080/"
        }
      },
      "outputs": [
        {
          "output_type": "stream",
          "name": "stdout",
          "text": [
            "tensor([[0, 0, 0],\n",
            "        [4, 5, 6],\n",
            "        [7, 8, 9]])\n"
          ]
        }
      ],
      "source": [
        "# 2D 텐서 생성\n",
        "tensor_2d = torch.tensor([[1, 2, 3], [4, 5, 6], [7, 8, 9]])\n",
        "\n",
        "# 첫 번째 행(0번 축의 0번 요소)을 모두 0으로 수정\n",
        "tensor_2d[0, :] = 0\n",
        "print(tensor_2d)\n",
        "# 출력: tensor([[0, 0, 0],\n",
        "#               [4, 5, 6],\n",
        "#               [7, 8, 9]])"
      ]
    },
    {
      "cell_type": "markdown",
      "id": "9399d7ff-cd29-4fa9-9d22-708a720c04b1",
      "metadata": {
        "id": "9399d7ff-cd29-4fa9-9d22-708a720c04b1"
      },
      "source": [
        "## Tensor 산술 연산"
      ]
    },
    {
      "cell_type": "code",
      "execution_count": null,
      "id": "fecaa7f9-6df7-42c2-9e70-335f6a722ee0",
      "metadata": {
        "id": "fecaa7f9-6df7-42c2-9e70-335f6a722ee0",
        "outputId": "bbdd6ffa-43d6-48e6-b80e-414d287a76be",
        "colab": {
          "base_uri": "https://localhost:8080/"
        }
      },
      "outputs": [
        {
          "output_type": "execute_result",
          "data": {
            "text/plain": [
              "(tensor([1, 2, 3]), tensor([4, 5, 6]))"
            ]
          },
          "metadata": {},
          "execution_count": 76
        }
      ],
      "source": [
        "# Tensor 생성\n",
        "x = torch.tensor([1, 2, 3])\n",
        "y = torch.tensor([4, 5, 6])\n",
        "x, y # 출력: (tensor([1, 2, 3]), tensor([4, 5, 6]))"
      ]
    },
    {
      "cell_type": "code",
      "execution_count": null,
      "id": "099b8582-9fab-43f2-83fb-252e11fd8f89",
      "metadata": {
        "id": "099b8582-9fab-43f2-83fb-252e11fd8f89",
        "outputId": "b3f8abb4-0b8b-4f62-9918-53e0f6d2db6a",
        "colab": {
          "base_uri": "https://localhost:8080/"
        }
      },
      "outputs": [
        {
          "output_type": "execute_result",
          "data": {
            "text/plain": [
              "tensor([5, 7, 9])"
            ]
          },
          "metadata": {},
          "execution_count": 77
        }
      ],
      "source": [
        "# 요소별(element wise) 뺄셈\n",
        "add_result = x+y # 또는 torch.add(x, y)\n",
        "add_result  # 출력: tensor([5, 7, 9])"
      ]
    },
    {
      "cell_type": "code",
      "execution_count": null,
      "id": "118d4579-2fb1-43e3-ade6-4b002dc57926",
      "metadata": {
        "id": "118d4579-2fb1-43e3-ade6-4b002dc57926",
        "outputId": "95582bcc-aa2d-44d9-993b-1e1ceb4e0968",
        "colab": {
          "base_uri": "https://localhost:8080/"
        }
      },
      "outputs": [
        {
          "output_type": "execute_result",
          "data": {
            "text/plain": [
              "tensor([-3, -3, -3])"
            ]
          },
          "metadata": {},
          "execution_count": 78
        }
      ],
      "source": [
        "# 요소별 뺄셈\n",
        "sub_result = x-y # 또는 torch.subtract(x, y)\n",
        "sub_result  # 출력: tensor([-3, -3, -3])"
      ]
    },
    {
      "cell_type": "code",
      "execution_count": null,
      "id": "85b1ad22-51c3-4bc8-a89b-82f645265615",
      "metadata": {
        "id": "85b1ad22-51c3-4bc8-a89b-82f645265615",
        "outputId": "37d91be1-6e28-4acc-9ba0-64ca2ffb9266",
        "colab": {
          "base_uri": "https://localhost:8080/"
        }
      },
      "outputs": [
        {
          "output_type": "execute_result",
          "data": {
            "text/plain": [
              "tensor([0.2500, 0.4000, 0.5000])"
            ]
          },
          "metadata": {},
          "execution_count": 80
        }
      ],
      "source": [
        "# 요소별 나눗셈\n",
        "div_result = x/y # 또는 torch.divide(x, y)\n",
        "div_result  # 출력: tensor([0.2500, 0.4000, 0.5000])"
      ]
    },
    {
      "cell_type": "code",
      "source": [
        "# 요소별 곱셈\n",
        "div_result = x*y\n",
        "div_result  # 출력: tensor([ 4, 10, 18])"
      ],
      "metadata": {
        "colab": {
          "base_uri": "https://localhost:8080/"
        },
        "id": "SwhJE6LKFk0Q",
        "outputId": "461689cc-669a-4167-ad48-22567ce46774"
      },
      "id": "SwhJE6LKFk0Q",
      "execution_count": null,
      "outputs": [
        {
          "output_type": "execute_result",
          "data": {
            "text/plain": [
              "tensor([ 4, 10, 18])"
            ]
          },
          "metadata": {},
          "execution_count": 81
        }
      ]
    },
    {
      "cell_type": "code",
      "source": [
        "# 내적 또는 행렬곱\n",
        "# 1D @ 1D 내적\n",
        "# 2D @ 2D 행렬곱\n",
        "x@y"
      ],
      "metadata": {
        "colab": {
          "base_uri": "https://localhost:8080/"
        },
        "id": "jZdDyyASF7Fw",
        "outputId": "a08b4a0e-2a31-4424-efff-63428e0d4f74"
      },
      "id": "jZdDyyASF7Fw",
      "execution_count": null,
      "outputs": [
        {
          "output_type": "execute_result",
          "data": {
            "text/plain": [
              "tensor(32)"
            ]
          },
          "metadata": {},
          "execution_count": 82
        }
      ]
    },
    {
      "cell_type": "markdown",
      "id": "4dd81ca1-00e3-4128-b7a9-a212e81104bc",
      "metadata": {
        "id": "4dd81ca1-00e3-4128-b7a9-a212e81104bc"
      },
      "source": [
        "## Tensor 간 연산"
      ]
    },
    {
      "cell_type": "code",
      "execution_count": null,
      "id": "c17fb780-0c15-4790-8a8f-dcfa89922ef8",
      "metadata": {
        "id": "c17fb780-0c15-4790-8a8f-dcfa89922ef8",
        "outputId": "5976a051-aed1-4ee8-a276-d92fe1e84ee5",
        "colab": {
          "base_uri": "https://localhost:8080/"
        }
      },
      "outputs": [
        {
          "output_type": "execute_result",
          "data": {
            "text/plain": [
              "tensor([[2, 4, 6],\n",
              "        [5, 7, 9]])"
            ]
          },
          "metadata": {},
          "execution_count": 83
        }
      ],
      "source": [
        "# Tensor 생성\n",
        "x = torch.tensor([[1, 2, 3], [4, 5, 6]])\n",
        "y = torch.tensor([1, 2, 3])\n",
        "\n",
        "# 브로드캐스팅을 통한 요소별 덧셈\n",
        "result = x + y\n",
        "result\n",
        "# 출력: tensor([[2, 4, 6],\n",
        "#               [5, 7, 9]])"
      ]
    },
    {
      "cell_type": "code",
      "source": [
        "x * 100"
      ],
      "metadata": {
        "colab": {
          "base_uri": "https://localhost:8080/"
        },
        "id": "bBfTSw0pHhew",
        "outputId": "91151b41-ee2b-4fb9-e134-40a434151ffa"
      },
      "id": "bBfTSw0pHhew",
      "execution_count": null,
      "outputs": [
        {
          "output_type": "execute_result",
          "data": {
            "text/plain": [
              "tensor([[100, 200, 300],\n",
              "        [400, 500, 600]])"
            ]
          },
          "metadata": {},
          "execution_count": 84
        }
      ]
    },
    {
      "cell_type": "code",
      "source": [
        "x % 2 == 0"
      ],
      "metadata": {
        "colab": {
          "base_uri": "https://localhost:8080/"
        },
        "id": "REbjVMTFHkKf",
        "outputId": "ed26ae6e-392b-4e68-9d06-b9022d6b9a39"
      },
      "id": "REbjVMTFHkKf",
      "execution_count": null,
      "outputs": [
        {
          "output_type": "execute_result",
          "data": {
            "text/plain": [
              "tensor([[False,  True, False],\n",
              "        [ True, False,  True]])"
            ]
          },
          "metadata": {},
          "execution_count": 85
        }
      ]
    },
    {
      "cell_type": "code",
      "execution_count": null,
      "id": "5457c78e-7ece-41f3-b0c4-d2a7e9d8e327",
      "metadata": {
        "id": "5457c78e-7ece-41f3-b0c4-d2a7e9d8e327",
        "outputId": "df876986-9b9e-4d58-beaa-74771096615d",
        "colab": {
          "base_uri": "https://localhost:8080/"
        }
      },
      "outputs": [
        {
          "output_type": "execute_result",
          "data": {
            "text/plain": [
              "tensor(15)"
            ]
          },
          "metadata": {},
          "execution_count": 86
        }
      ],
      "source": [
        "# Tensor 생성\n",
        "x = torch.tensor([1, 2, 3, 4, 5])\n",
        "\n",
        "# 합계\n",
        "x.sum()"
      ]
    },
    {
      "cell_type": "code",
      "source": [
        "x = torch.tensor([1, 2, 3, 4]).reshape(2, -1)\n",
        "print(x)\n",
        "print(x.sum()) # 전체 합\n",
        "print(x.sum(dim=0)) # 열 별 합\n",
        "print(x.sum(dim=1)) # 행 별 합"
      ],
      "metadata": {
        "colab": {
          "base_uri": "https://localhost:8080/"
        },
        "id": "Gof0Qmx-IEmY",
        "outputId": "f3b1685a-dfee-4804-d751-d7118a9b7d1f"
      },
      "id": "Gof0Qmx-IEmY",
      "execution_count": null,
      "outputs": [
        {
          "output_type": "stream",
          "name": "stdout",
          "text": [
            "tensor([[1, 2],\n",
            "        [3, 4]])\n",
            "tensor(10)\n",
            "tensor([4, 6])\n",
            "tensor([3, 7])\n"
          ]
        }
      ]
    },
    {
      "cell_type": "code",
      "execution_count": null,
      "id": "c584e93b-38a3-44d6-9415-bd7dbca481ad",
      "metadata": {
        "id": "c584e93b-38a3-44d6-9415-bd7dbca481ad",
        "outputId": "b4c89e68-b8a0-4554-f690-555cc6d58ba2",
        "colab": {
          "base_uri": "https://localhost:8080/"
        }
      },
      "outputs": [
        {
          "output_type": "stream",
          "name": "stdout",
          "text": [
            "tensor(2.5000)\n",
            "tensor([2., 3.])\n",
            "tensor([1.5000, 3.5000])\n"
          ]
        }
      ],
      "source": [
        "# 평균\n",
        "# Tensor를 float로 변환한 후 평균 계산\n",
        "# tensor(3.)\n",
        "x = x.float() # x.to(torch.float32)\n",
        "print(x.mean()) # 전체 평균\n",
        "print(x.mean(dim=0)) # 열 별 평균\n",
        "print(x.mean(dim=1)) # 행 별 평균"
      ]
    },
    {
      "cell_type": "code",
      "source": [
        "print(x.std()) # 전체 표준편차\n",
        "print(x.std(dim=0)) # 열 별 표준편차\n",
        "print(x.std(dim=1)) # 행 별 표준편차"
      ],
      "metadata": {
        "colab": {
          "base_uri": "https://localhost:8080/"
        },
        "id": "Lw_umCkBI1d2",
        "outputId": "9035cc73-5e6d-439c-c9e6-3fb8a86237ab"
      },
      "id": "Lw_umCkBI1d2",
      "execution_count": null,
      "outputs": [
        {
          "output_type": "stream",
          "name": "stdout",
          "text": [
            "tensor(1.2910)\n",
            "tensor([1.4142, 1.4142])\n",
            "tensor([0.7071, 0.7071])\n"
          ]
        }
      ]
    },
    {
      "cell_type": "code",
      "source": [
        "x = torch.tensor([1, 2, 3, 4, 5])"
      ],
      "metadata": {
        "id": "n1XwHwetJK8i"
      },
      "id": "n1XwHwetJK8i",
      "execution_count": null,
      "outputs": []
    },
    {
      "cell_type": "code",
      "execution_count": null,
      "id": "f0d6e75c-9f4e-4206-889c-33cc38b99cef",
      "metadata": {
        "id": "f0d6e75c-9f4e-4206-889c-33cc38b99cef",
        "outputId": "f3dc3110-8707-4e50-ff40-53b5afb021b3",
        "colab": {
          "base_uri": "https://localhost:8080/"
        }
      },
      "outputs": [
        {
          "output_type": "execute_result",
          "data": {
            "text/plain": [
              "tensor(5)"
            ]
          },
          "metadata": {},
          "execution_count": 98
        }
      ],
      "source": [
        "# 최댓값\n",
        "# 출력: tensor(5)\n",
        "x.max()"
      ]
    },
    {
      "cell_type": "code",
      "source": [
        "# 차원 지정\n",
        "# 최댓값, 최댓값의 인덱스(위치)\n",
        "v, idx = x.max(dim=0)\n",
        "v, idx"
      ],
      "metadata": {
        "colab": {
          "base_uri": "https://localhost:8080/"
        },
        "id": "K95tgSn6JQ9I",
        "outputId": "a2f90bd7-57db-4a21-e455-573dea1b8b52"
      },
      "id": "K95tgSn6JQ9I",
      "execution_count": null,
      "outputs": [
        {
          "output_type": "execute_result",
          "data": {
            "text/plain": [
              "(tensor(5), tensor(4))"
            ]
          },
          "metadata": {},
          "execution_count": 100
        }
      ]
    },
    {
      "cell_type": "code",
      "source": [
        "x.argmax() # max의 인덱스"
      ],
      "metadata": {
        "colab": {
          "base_uri": "https://localhost:8080/"
        },
        "id": "ZyMYcTZgJlHL",
        "outputId": "bad96207-ac5a-480c-b3ec-d0651e274dd5"
      },
      "id": "ZyMYcTZgJlHL",
      "execution_count": null,
      "outputs": [
        {
          "output_type": "execute_result",
          "data": {
            "text/plain": [
              "tensor(4)"
            ]
          },
          "metadata": {},
          "execution_count": 101
        }
      ]
    },
    {
      "cell_type": "code",
      "source": [
        "x = torch.tensor([1, 2, 3, 4, 5])\n",
        "x1 = torch.tensor([-1, 20, -3, 40, -5])"
      ],
      "metadata": {
        "id": "HqyjprdpKDdx"
      },
      "id": "HqyjprdpKDdx",
      "execution_count": null,
      "outputs": []
    },
    {
      "cell_type": "code",
      "source": [
        "# 값을 여러 개 전달\n",
        "torch.max(x, x1)"
      ],
      "metadata": {
        "colab": {
          "base_uri": "https://localhost:8080/"
        },
        "id": "59E2hBVvJ4zu",
        "outputId": "8ab25c3d-e437-4fb0-e2e2-bed22df4ea99"
      },
      "id": "59E2hBVvJ4zu",
      "execution_count": null,
      "outputs": [
        {
          "output_type": "execute_result",
          "data": {
            "text/plain": [
              "tensor([ 1, 20,  3, 40,  5])"
            ]
          },
          "metadata": {},
          "execution_count": 108
        }
      ]
    },
    {
      "cell_type": "code",
      "source": [
        "torch.maximum(x, x1)"
      ],
      "metadata": {
        "colab": {
          "base_uri": "https://localhost:8080/"
        },
        "id": "K43IM--dKSU2",
        "outputId": "c3b509e8-a9b5-420c-9403-3e337906ff49"
      },
      "id": "K43IM--dKSU2",
      "execution_count": null,
      "outputs": [
        {
          "output_type": "execute_result",
          "data": {
            "text/plain": [
              "tensor([ 1, 20,  3, 40,  5])"
            ]
          },
          "metadata": {},
          "execution_count": 109
        }
      ]
    },
    {
      "cell_type": "code",
      "source": [
        "# max 함수는 3개 기능\n",
        "# 1. 가장 큰 값 추출\n",
        "# 2. 가장 큰 값과 위치 추출 -> 위치 추출 argmax\n",
        "# 3. 더 큰 값 선택 -> maximum"
      ],
      "metadata": {
        "id": "Y3uWNcaZKVSw"
      },
      "id": "Y3uWNcaZKVSw",
      "execution_count": null,
      "outputs": []
    },
    {
      "cell_type": "code",
      "execution_count": null,
      "id": "bc9a612b-1229-43dc-92d9-4984545d6784",
      "metadata": {
        "id": "bc9a612b-1229-43dc-92d9-4984545d6784",
        "outputId": "2783f78e-0b8d-4c83-a3fe-e878ebfee97e",
        "colab": {
          "base_uri": "https://localhost:8080/"
        }
      },
      "outputs": [
        {
          "output_type": "execute_result",
          "data": {
            "text/plain": [
              "tensor(1)"
            ]
          },
          "metadata": {},
          "execution_count": 49
        }
      ],
      "source": [
        "# 최소값\n",
        "# 출력: tensor(1)"
      ]
    },
    {
      "cell_type": "markdown",
      "id": "8d254d23-80d4-48b1-8dc3-c64d90a1470a",
      "metadata": {
        "id": "8d254d23-80d4-48b1-8dc3-c64d90a1470a"
      },
      "source": [
        "# 퍼셉트론"
      ]
    },
    {
      "cell_type": "code",
      "source": [
        "# 1일차 수업을 위한 추가 모듈 설치\n",
        "!pip install torchinfo JAEN -qU"
      ],
      "metadata": {
        "id": "UT7h0eJElBsU"
      },
      "id": "UT7h0eJElBsU",
      "execution_count": null,
      "outputs": []
    },
    {
      "cell_type": "code",
      "execution_count": null,
      "id": "9c554b41-be49-4a2b-8f9e-abf05199c7b8",
      "metadata": {
        "id": "9c554b41-be49-4a2b-8f9e-abf05199c7b8"
      },
      "outputs": [],
      "source": [
        "# 모듈 설정\n",
        "import torch\n",
        "import torch.nn as nn\n",
        "from JAEN.models import Perceptron\n",
        "from JAEN.utils import plot_activation_function"
      ]
    },
    {
      "cell_type": "markdown",
      "id": "d2321176-3835-4f47-bfc0-1eeb679c464f",
      "metadata": {
        "id": "d2321176-3835-4f47-bfc0-1eeb679c464f"
      },
      "source": [
        "## 단층퍼셉트론 - AND"
      ]
    },
    {
      "cell_type": "code",
      "source": [
        "x = torch.rand((20, 5)) # 0~1 값 생성\n",
        "x.shape"
      ],
      "metadata": {
        "colab": {
          "base_uri": "https://localhost:8080/"
        },
        "id": "gKy_XZpxxzFn",
        "outputId": "6c064b6f-c7ac-452a-a161-6ff96e724ad4"
      },
      "id": "gKy_XZpxxzFn",
      "execution_count": null,
      "outputs": [
        {
          "output_type": "execute_result",
          "data": {
            "text/plain": [
              "torch.Size([20, 5])"
            ]
          },
          "metadata": {},
          "execution_count": 7
        }
      ]
    },
    {
      "cell_type": "code",
      "source": [
        "# nn.Linear 모듈이 입력으로 받을 수 있는 데이터의 shape\n",
        "# 1. (sample, features) 2D tensor\n",
        "# 2. (sample, time steps, features) 3D tensor (나중에 transformer에서)\n",
        "from torch import nn\n",
        "\n",
        "# 입력 데이터는 x -> (10, 3)\n",
        "# 입력 데이터의 features 차원 크기를 in_features\n",
        "# 현재 계층이 \"출력층\"이면 out_features 출력 개수에 맞춰서 전달해야 함\n",
        "# 퍼셉트론 1개 계층 생성\n",
        "# 10, 3-> 10개 관측치가 입력으로 전달됨\n",
        "fc = nn.Linear(in_features=5, out_features=2)\n",
        "\n",
        "# 예측 값 생성\n",
        "out = fc(x)\n",
        "# 출력은 (sample, out_features)\n",
        "out.shape, out"
      ],
      "metadata": {
        "colab": {
          "base_uri": "https://localhost:8080/"
        },
        "collapsed": true,
        "id": "gG0V71qNyDmN",
        "outputId": "2fa4d7e9-82cd-4307-dafb-a0bc8f7d0d8c"
      },
      "id": "gG0V71qNyDmN",
      "execution_count": null,
      "outputs": [
        {
          "output_type": "execute_result",
          "data": {
            "text/plain": [
              "(torch.Size([20, 2]),\n",
              " tensor([[-0.4700,  0.4964],\n",
              "         [-0.4464,  0.6183],\n",
              "         [-0.7162,  0.7312],\n",
              "         [-0.5158,  0.7827],\n",
              "         [-0.6056,  0.7576],\n",
              "         [-0.4654,  0.8362],\n",
              "         [-0.7139,  0.9113],\n",
              "         [-0.6272,  1.0444],\n",
              "         [-0.6170,  0.6803],\n",
              "         [-0.4849,  0.8674],\n",
              "         [-0.7098,  0.9801],\n",
              "         [-0.4758,  0.5483],\n",
              "         [-0.4882,  0.8112],\n",
              "         [-0.9018,  1.0166],\n",
              "         [-0.5598,  0.9319],\n",
              "         [-0.7038,  0.6660],\n",
              "         [-0.6891,  0.8954],\n",
              "         [-0.5961,  0.8591],\n",
              "         [-1.0458,  0.9495],\n",
              "         [-0.4341,  0.7973]], grad_fn=<AddmmBackward0>))"
            ]
          },
          "metadata": {},
          "execution_count": 9
        }
      ]
    },
    {
      "cell_type": "code",
      "source": [
        "fc.bias"
      ],
      "metadata": {
        "colab": {
          "base_uri": "https://localhost:8080/"
        },
        "id": "Auh8O4hl0YJ5",
        "outputId": "e9ecf213-0da4-48b2-87f0-6ded051da3bd"
      },
      "id": "Auh8O4hl0YJ5",
      "execution_count": null,
      "outputs": [
        {
          "output_type": "execute_result",
          "data": {
            "text/plain": [
              "Parameter containing:\n",
              "tensor([-0.0779,  0.4123], requires_grad=True)"
            ]
          },
          "metadata": {},
          "execution_count": 11
        }
      ]
    },
    {
      "cell_type": "code",
      "execution_count": null,
      "id": "4c8fe4fa-b4f0-4e72-832d-7df7dbe01197",
      "metadata": {
        "id": "4c8fe4fa-b4f0-4e72-832d-7df7dbe01197"
      },
      "outputs": [],
      "source": [
        "# AND 문제에 사용할 입력과 출력 데이터 생성\n",
        "X = torch.tensor([[0.0, 0.0],\n",
        "                  [0.0, 1.0],\n",
        "                  [1.0, 0.0],\n",
        "                  [1.0, 1.0]])\n",
        "\n",
        "y = torch.tensor([[0.0],\n",
        "                  [0.0],\n",
        "                  [0.0],\n",
        "                  [1.0]])"
      ]
    },
    {
      "cell_type": "code",
      "source": [
        "X.shape, y.shape"
      ],
      "metadata": {
        "colab": {
          "base_uri": "https://localhost:8080/"
        },
        "id": "olDzerhD1KdK",
        "outputId": "58604a90-7c51-4bee-c0ac-8d26f7d4718c"
      },
      "id": "olDzerhD1KdK",
      "execution_count": null,
      "outputs": [
        {
          "output_type": "execute_result",
          "data": {
            "text/plain": [
              "(torch.Size([4, 2]), torch.Size([4, 1]))"
            ]
          },
          "metadata": {},
          "execution_count": 14
        }
      ]
    },
    {
      "cell_type": "code",
      "source": [
        "layer = nn.Linear(2, 1)\n",
        "layer.weight, layer.bias"
      ],
      "metadata": {
        "colab": {
          "base_uri": "https://localhost:8080/"
        },
        "id": "wscQ6j0r-XoF",
        "outputId": "a0984910-b397-4e2c-e9e4-33ed3a142b2d"
      },
      "id": "wscQ6j0r-XoF",
      "execution_count": null,
      "outputs": [
        {
          "output_type": "execute_result",
          "data": {
            "text/plain": [
              "(Parameter containing:\n",
              " tensor([[-0.5188,  0.6146]], requires_grad=True),\n",
              " Parameter containing:\n",
              " tensor([0.1323], requires_grad=True))"
            ]
          },
          "metadata": {},
          "execution_count": 40
        }
      ]
    },
    {
      "cell_type": "code",
      "execution_count": null,
      "id": "cfd4d6dc-e387-4785-a2e8-f589468559c1",
      "metadata": {
        "id": "cfd4d6dc-e387-4785-a2e8-f589468559c1",
        "outputId": "8788877f-26bb-48b7-b706-fb27e13fefab",
        "colab": {
          "base_uri": "https://localhost:8080/"
        }
      },
      "outputs": [
        {
          "output_type": "stream",
          "name": "stdout",
          "text": [
            "Parameter containing:\n",
            "tensor([[-0.0593, -0.0242]], requires_grad=True)\n",
            "tensor([[0],\n",
            "        [0],\n",
            "        [0],\n",
            "        [0]], dtype=torch.int32)\n",
            "Epoch [2000/10000], Loss: 0.0814\n",
            "Epoch [4000/10000], Loss: 0.0430\n",
            "Epoch [6000/10000], Loss: 0.0290\n",
            "Epoch [8000/10000], Loss: 0.0218\n",
            "Epoch [10000/10000], Loss: 0.0174\n"
          ]
        }
      ],
      "source": [
        "# 단층 퍼셉트론 구성\n",
        "torch.manual_seed(10) # 추가\n",
        "\n",
        "layer = nn.Linear(2, 1) # 입력이 2개, 출력이 1개인 선형 레이어 (입력층 > 출력층)\n",
        "\n",
        "print(layer.weight) # 추가\n",
        "print((layer(X) > 0.5).int()) # 추가\n",
        "\n",
        "# 학습 코드\n",
        "SLP = Perceptron(layer, X=X, y=y)"
      ]
    },
    {
      "cell_type": "code",
      "source": [
        "print(layer.weight)\n",
        "print(layer.bias)"
      ],
      "metadata": {
        "colab": {
          "base_uri": "https://localhost:8080/"
        },
        "id": "I3PzMZoJ1v4J",
        "outputId": "2911b376-0ee3-488b-8b26-c8c3a65112a6"
      },
      "id": "I3PzMZoJ1v4J",
      "execution_count": null,
      "outputs": [
        {
          "output_type": "stream",
          "name": "stdout",
          "text": [
            "Parameter containing:\n",
            "tensor([[7.4126, 7.4126]], requires_grad=True)\n",
            "Parameter containing:\n",
            "tensor([-11.2915], requires_grad=True)\n"
          ]
        }
      ]
    },
    {
      "cell_type": "code",
      "execution_count": null,
      "id": "fcb670a4-5638-4687-8027-53764ec6ba65",
      "metadata": {
        "id": "fcb670a4-5638-4687-8027-53764ec6ba65",
        "outputId": "38117dcd-d170-46c6-d5d6-c7756ae48f40",
        "colab": {
          "base_uri": "https://localhost:8080/"
        }
      },
      "outputs": [
        {
          "output_type": "execute_result",
          "data": {
            "text/plain": [
              "tensor([[0.5000],\n",
              "        [0.5000],\n",
              "        [0.5000],\n",
              "        [0.5000]], grad_fn=<SigmoidBackward0>)"
            ]
          },
          "metadata": {},
          "execution_count": 41
        }
      ],
      "source": [
        "# 단층 퍼셉트론 결과 확인\n",
        "SLP(X)"
      ]
    },
    {
      "cell_type": "markdown",
      "id": "a883245d-3eca-4f8a-9bd9-6c638c036b84",
      "metadata": {
        "id": "a883245d-3eca-4f8a-9bd9-6c638c036b84"
      },
      "source": [
        "## 단층 퍼셉트론 - XOR"
      ]
    },
    {
      "cell_type": "code",
      "execution_count": null,
      "id": "d5396b91-d1f1-415c-9afe-40442b021c02",
      "metadata": {
        "id": "d5396b91-d1f1-415c-9afe-40442b021c02"
      },
      "outputs": [],
      "source": [
        "# XOR 문제에 사용할 입력과 출력 데이터 생성\n",
        "X = torch.tensor([[0.0, 0.0],\n",
        "                  [0.0, 1.0],\n",
        "                  [1.0, 0.0],\n",
        "                  [1.0, 1.0]])\n",
        "\n",
        "y = torch.tensor([[0.0],\n",
        "                  [1.0],\n",
        "                  [1.0],\n",
        "                  [0.0]])"
      ]
    },
    {
      "cell_type": "code",
      "execution_count": null,
      "id": "94791e57-0854-4e95-a6ab-b15b464647a0",
      "metadata": {
        "id": "94791e57-0854-4e95-a6ab-b15b464647a0",
        "outputId": "e8722272-0370-4396-a526-d07dbe372feb",
        "colab": {
          "base_uri": "https://localhost:8080/"
        }
      },
      "outputs": [
        {
          "output_type": "stream",
          "name": "stdout",
          "text": [
            "Epoch [2000/10000], Loss: 0.6931\n",
            "Epoch [4000/10000], Loss: 0.6931\n",
            "Epoch [6000/10000], Loss: 0.6931\n",
            "Epoch [8000/10000], Loss: 0.6931\n",
            "Epoch [10000/10000], Loss: 0.6931\n"
          ]
        }
      ],
      "source": [
        "# 단층 퍼셉트론 구성\n",
        "layer = nn.Linear(2, 1) # 입력이 2개, 출력이 1개인 선형 레이어 (입력층 > 출력층)\n",
        "SLP = Perceptron(layer, X=X, y=y)"
      ]
    },
    {
      "cell_type": "code",
      "execution_count": null,
      "id": "45c7bd0c-c431-4d39-9d8a-89cec83a81e1",
      "metadata": {
        "id": "45c7bd0c-c431-4d39-9d8a-89cec83a81e1",
        "outputId": "deaa8039-67f8-44e6-98cb-f99ba291ff74",
        "colab": {
          "base_uri": "https://localhost:8080/"
        }
      },
      "outputs": [
        {
          "output_type": "execute_result",
          "data": {
            "text/plain": [
              "tensor([[0],\n",
              "        [0],\n",
              "        [0],\n",
              "        [0]], dtype=torch.int32)"
            ]
          },
          "metadata": {},
          "execution_count": 33
        }
      ],
      "source": [
        "# 단층 퍼셉트론 결과 확인\n",
        "(SLP(X) > 0.5).int()"
      ]
    },
    {
      "cell_type": "markdown",
      "id": "f5466810-c754-451b-b055-f84b9eaf8c2f",
      "metadata": {
        "id": "f5466810-c754-451b-b055-f84b9eaf8c2f"
      },
      "source": [
        "## 다층 퍼셉트론 - XOR"
      ]
    },
    {
      "cell_type": "code",
      "execution_count": null,
      "id": "3a14f155-33f9-4e3d-b2ad-7c5fead3ed6f",
      "metadata": {
        "id": "3a14f155-33f9-4e3d-b2ad-7c5fead3ed6f",
        "outputId": "2f6fdc27-7739-4eae-d622-aa887ea7fb4e",
        "colab": {
          "base_uri": "https://localhost:8080/"
        }
      },
      "outputs": [
        {
          "output_type": "stream",
          "name": "stdout",
          "text": [
            "Epoch [2000/10000], Loss: 0.6925\n",
            "Epoch [4000/10000], Loss: 0.6668\n",
            "Epoch [6000/10000], Loss: 0.1937\n",
            "Epoch [8000/10000], Loss: 0.0450\n",
            "Epoch [10000/10000], Loss: 0.0231\n"
          ]
        }
      ],
      "source": [
        "# 다층 퍼셉트론 구성\n",
        "layer1 = nn.Linear(2, 3)# 입력이 2개, 출력이 3개인 선형 레이어 (입력층 > 은닉층)\n",
        "# 이전 층의 출력 크기가 다음 층의 입력 크기로 지정됨\n",
        "layer2 = nn.Linear(3, 1)# 입력이 3개, 출력이 1개인 선형 레이어 (은닉층 > 출력층)\n",
        "MLP = Perceptron(layer1, layer2, X=X, y=y)"
      ]
    },
    {
      "cell_type": "code",
      "execution_count": null,
      "id": "07d2c831-19f4-4435-8875-9d43063c438c",
      "metadata": {
        "id": "07d2c831-19f4-4435-8875-9d43063c438c",
        "outputId": "96dec172-98af-4c6d-e796-58bd44abe919",
        "colab": {
          "base_uri": "https://localhost:8080/"
        }
      },
      "outputs": [
        {
          "output_type": "execute_result",
          "data": {
            "text/plain": [
              "tensor([[0.0223],\n",
              "        [0.9701],\n",
              "        [0.9858],\n",
              "        [0.0249]], grad_fn=<SigmoidBackward0>)"
            ]
          },
          "metadata": {},
          "execution_count": 47
        }
      ],
      "source": [
        "MLP(X)"
      ]
    },
    {
      "cell_type": "markdown",
      "id": "2e299532-d64b-4379-9139-7a192b3238dd",
      "metadata": {
        "id": "2e299532-d64b-4379-9139-7a192b3238dd"
      },
      "source": [
        "# 활성화 함수"
      ]
    },
    {
      "cell_type": "markdown",
      "id": "74da54c4-802c-4e43-92d4-456b0a5a1a7e",
      "metadata": {
        "id": "74da54c4-802c-4e43-92d4-456b0a5a1a7e"
      },
      "source": [
        "## sigmoid"
      ]
    },
    {
      "cell_type": "code",
      "execution_count": null,
      "id": "5307d871-e498-46a6-a61c-dc13dc8eb39c",
      "metadata": {
        "id": "5307d871-e498-46a6-a61c-dc13dc8eb39c",
        "outputId": "e1132ce0-1ed3-473d-fef4-6fdbd968ec85",
        "colab": {
          "base_uri": "https://localhost:8080/",
          "height": 368
        }
      },
      "outputs": [
        {
          "output_type": "display_data",
          "data": {
            "text/plain": [
              "<Figure size 600x400 with 1 Axes>"
            ],
            "image/png": "[encoded data removed]"
          },
          "metadata": {}
        }
      ],
      "source": [
        "# 별 표\n",
        "def sigmoid(x):\n",
        "    return 1 / (1 + torch.exp(-x))\n",
        "\n",
        "plot_activation_function(sigmoid)"
      ]
    },
    {
      "cell_type": "markdown",
      "id": "c654adb2-87ec-494a-94ec-0b2c1e4c763c",
      "metadata": {
        "id": "c654adb2-87ec-494a-94ec-0b2c1e4c763c"
      },
      "source": [
        "## tanh"
      ]
    },
    {
      "cell_type": "code",
      "execution_count": null,
      "id": "2f743293-9c92-4b24-b974-33aa39ec9d46",
      "metadata": {
        "id": "2f743293-9c92-4b24-b974-33aa39ec9d46",
        "outputId": "fe824999-e09d-4b4e-f9ab-4337a7883455",
        "colab": {
          "base_uri": "https://localhost:8080/",
          "height": 368
        }
      },
      "outputs": [
        {
          "output_type": "display_data",
          "data": {
            "text/plain": [
              "<Figure size 600x400 with 1 Axes>"
            ],
            "image/png": "[encoded data removed]"
          },
          "metadata": {}
        }
      ],
      "source": [
        "# 별 표\n",
        "def tanh(x):\n",
        "    return (torch.exp(x) - torch.exp(-x)) / (torch.exp(x) + torch.exp(-x))\n",
        "\n",
        "plot_activation_function(tanh)"
      ]
    },
    {
      "cell_type": "markdown",
      "id": "6a571bad-16be-4fc7-afb8-c5917e9efb00",
      "metadata": {
        "id": "6a571bad-16be-4fc7-afb8-c5917e9efb00"
      },
      "source": [
        "## relu"
      ]
    },
    {
      "cell_type": "code",
      "execution_count": null,
      "id": "4d06b29c-2226-4ffe-bc45-b6ac33b6b5df",
      "metadata": {
        "id": "4d06b29c-2226-4ffe-bc45-b6ac33b6b5df",
        "outputId": "b7887b33-dac4-47b0-9fe9-e51de023c801",
        "colab": {
          "base_uri": "https://localhost:8080/",
          "height": 368
        }
      },
      "outputs": [
        {
          "output_type": "display_data",
          "data": {
            "text/plain": [
              "<Figure size 600x400 with 1 Axes>"
            ],
            "image/png": "[encoded data removed]"
          },
          "metadata": {}
        }
      ],
      "source": [
        "# 별 표\n",
        "def relu(x):\n",
        "    return torch.maximum(torch.tensor(0.0), x)\n",
        "\n",
        "plot_activation_function(relu)"
      ]
    },
    {
      "cell_type": "markdown",
      "id": "4544e3f1-b8a0-41df-b9f0-b2288ec33b63",
      "metadata": {
        "id": "4544e3f1-b8a0-41df-b9f0-b2288ec33b63"
      },
      "source": [
        "## leaky relu"
      ]
    },
    {
      "cell_type": "code",
      "execution_count": null,
      "id": "75053127-a3fe-44ee-9d83-7568b408bc5c",
      "metadata": {
        "id": "75053127-a3fe-44ee-9d83-7568b408bc5c",
        "outputId": "344243d9-8fa8-4fc4-ba00-5aa312817438",
        "colab": {
          "base_uri": "https://localhost:8080/",
          "height": 368
        }
      },
      "outputs": [
        {
          "output_type": "display_data",
          "data": {
            "text/plain": [
              "<Figure size 600x400 with 1 Axes>"
            ],
            "image/png": "[encoded data removed]"
          },
          "metadata": {}
        }
      ],
      "source": [
        "def leaky_relu(x, alpha=0.01):\n",
        "    return torch.where(x > 0, x, alpha * x)\n",
        "\n",
        "plot_activation_function(leaky_relu)"
      ]
    },
    {
      "cell_type": "markdown",
      "id": "ac83000f-0bdc-4c27-a46c-cf7154419ef8",
      "metadata": {
        "id": "ac83000f-0bdc-4c27-a46c-cf7154419ef8"
      },
      "source": [
        "## elu"
      ]
    },
    {
      "cell_type": "code",
      "execution_count": null,
      "id": "48b7bec3-b922-42e4-aebb-321ef0357e7b",
      "metadata": {
        "id": "48b7bec3-b922-42e4-aebb-321ef0357e7b",
        "outputId": "51749da4-fad9-49aa-f9ba-5bac6fb26e66",
        "colab": {
          "base_uri": "https://localhost:8080/",
          "height": 368
        }
      },
      "outputs": [
        {
          "output_type": "display_data",
          "data": {
            "text/plain": [
              "<Figure size 600x400 with 1 Axes>"
            ],
            "image/png": "[encoded data removed]"
          },
          "metadata": {}
        }
      ],
      "source": [
        "def elu(x, alpha=1.0):\n",
        "    return torch.where(x > 0, x, alpha * (torch.exp(x) - 1))\n",
        "\n",
        "plot_activation_function(elu)"
      ]
    },
    {
      "cell_type": "markdown",
      "id": "d1346543-2e0e-4ad4-8d16-b850fe5f4d2b",
      "metadata": {
        "id": "d1346543-2e0e-4ad4-8d16-b850fe5f4d2b"
      },
      "source": [
        "## 자동미분"
      ]
    },
    {
      "cell_type": "code",
      "source": [
        "import torch"
      ],
      "metadata": {
        "id": "LKkqpirNO-vY"
      },
      "id": "LKkqpirNO-vY",
      "execution_count": null,
      "outputs": []
    },
    {
      "cell_type": "code",
      "execution_count": null,
      "id": "8a4006c3-d7e1-4955-8b0e-b89510b5faff",
      "metadata": {
        "id": "8a4006c3-d7e1-4955-8b0e-b89510b5faff",
        "outputId": "897f1e8f-a7ca-47f9-d33c-885c09164b5e",
        "colab": {
          "base_uri": "https://localhost:8080/"
        }
      },
      "outputs": [
        {
          "output_type": "execute_result",
          "data": {
            "text/plain": [
              "tensor([2., 3.], requires_grad=True)"
            ]
          },
          "metadata": {},
          "execution_count": 9
        }
      ],
      "source": [
        "# requires_grad=True로 설정된 텐서 생성\n",
        "# 미분 가능하려면 실수 텐서를 생성해야 함\n",
        "# x1, x2\n",
        "x = torch.tensor([2., 3.], requires_grad=True)\n",
        "x"
      ]
    },
    {
      "cell_type": "code",
      "execution_count": null,
      "id": "2a4cb8b5-4e27-4d19-b02e-6f84258374fe",
      "metadata": {
        "id": "2a4cb8b5-4e27-4d19-b02e-6f84258374fe"
      },
      "outputs": [],
      "source": [
        "# 텐서의 연산\n",
        "y = x ** 2  # y = [4, 9]\n",
        "z = y.sum()  # z = 13\n",
        "\n",
        "# 1. 예측 값 생성(가설)\n",
        "# 2. 손실 계산 (비용 계산)\n",
        "# 3. 미분 계산  -> cost.backward()\n",
        "# 4. w, b update\n",
        "\n",
        "# 역전파 수행\n",
        "# dz/dx1\n",
        "# dz/dx2\n",
        "z.backward()"
      ]
    },
    {
      "cell_type": "code",
      "execution_count": null,
      "id": "a88f9faa-cc40-413b-81b6-2866a32b8632",
      "metadata": {
        "id": "a88f9faa-cc40-413b-81b6-2866a32b8632",
        "outputId": "37a9ffc9-cbdd-43ed-eafa-aba189ffd8b2",
        "colab": {
          "base_uri": "https://localhost:8080/"
        }
      },
      "outputs": [
        {
          "output_type": "execute_result",
          "data": {
            "text/plain": [
              "tensor([4., 6.])"
            ]
          },
          "metadata": {},
          "execution_count": 12
        }
      ],
      "source": [
        "# x에 대한 z의 그래디언트 (z가 x에 대해 어떻게 변화하는지를 계산, 편미분 수행)\n",
        "# 출력: tensor([4., 6.])\n",
        "x.grad\n",
        "# z = x1^2 + x2^2\n",
        "# dz/dx1 = 2 * x1 = 2 * 2 = 4\n",
        "# dz/dx2 = 2 * x2 = 2 * 3 = 6"
      ]
    },
    {
      "cell_type": "code",
      "source": [
        "y = x ** 2  # y = [4, 9]\n",
        "z = y.sum()  # z = 13\n",
        "\n",
        "x.grad.zero_() # 누적된 미분 값을 0으로 초기화\n",
        "z.backward()"
      ],
      "metadata": {
        "id": "Q2l5wrCLQC4H"
      },
      "id": "Q2l5wrCLQC4H",
      "execution_count": null,
      "outputs": []
    },
    {
      "cell_type": "code",
      "source": [
        "z.backward()"
      ],
      "metadata": {
        "colab": {
          "base_uri": "https://localhost:8080/",
          "height": 336
        },
        "id": "CnKQs-aRQyZv",
        "outputId": "c7811184-22f9-4933-962a-94d5cc04c12e"
      },
      "id": "CnKQs-aRQyZv",
      "execution_count": null,
      "outputs": [
        {
          "output_type": "error",
          "ename": "RuntimeError",
          "evalue": "Trying to backward through the graph a second time (or directly access saved tensors after they have already been freed). Saved intermediate values of the graph are freed when you call .backward() or autograd.grad(). Specify retain_graph=True if you need to backward through the graph a second time or if you need to access saved tensors after calling backward.",
          "traceback": [
            "\u001b[0;31m---------------------------------------------------------------------------\u001b[0m",
            "\u001b[0;31mRuntimeError\u001b[0m                              Traceback (most recent call last)",
            "\u001b[0;32m<ipython-input-22-40c0c9b0bbab>\u001b[0m in \u001b[0;36m<cell line: 1>\u001b[0;34m()\u001b[0m\n\u001b[0;32m----> 1\u001b[0;31m \u001b[0mz\u001b[0m\u001b[0;34m.\u001b[0m\u001b[0mbackward\u001b[0m\u001b[0;34m(\u001b[0m\u001b[0;34m)\u001b[0m\u001b[0;34m\u001b[0m\u001b[0;34m\u001b[0m\u001b[0m\n\u001b[0m",
            "\u001b[0;32m/usr/local/lib/python3.10/dist-packages/torch/_tensor.py\u001b[0m in \u001b[0;36mbackward\u001b[0;34m(self, gradient, retain_graph, create_graph, inputs)\u001b[0m\n\u001b[1;32m    519\u001b[0m                 \u001b[0minputs\u001b[0m\u001b[0;34m=\u001b[0m\u001b[0minputs\u001b[0m\u001b[0;34m,\u001b[0m\u001b[0;34m\u001b[0m\u001b[0;34m\u001b[0m\u001b[0m\n\u001b[1;32m    520\u001b[0m             )\n\u001b[0;32m--> 521\u001b[0;31m         torch.autograd.backward(\n\u001b[0m\u001b[1;32m    522\u001b[0m             \u001b[0mself\u001b[0m\u001b[0;34m,\u001b[0m \u001b[0mgradient\u001b[0m\u001b[0;34m,\u001b[0m \u001b[0mretain_graph\u001b[0m\u001b[0;34m,\u001b[0m \u001b[0mcreate_graph\u001b[0m\u001b[0;34m,\u001b[0m \u001b[0minputs\u001b[0m\u001b[0;34m=\u001b[0m\u001b[0minputs\u001b[0m\u001b[0;34m\u001b[0m\u001b[0;34m\u001b[0m\u001b[0m\n\u001b[1;32m    523\u001b[0m         )\n",
            "\u001b[0;32m/usr/local/lib/python3.10/dist-packages/torch/autograd/__init__.py\u001b[0m in \u001b[0;36mbackward\u001b[0;34m(tensors, grad_tensors, retain_graph, create_graph, grad_variables, inputs)\u001b[0m\n\u001b[1;32m    287\u001b[0m     \u001b[0;31m# some Python versions print out the first line of a multi-line function\u001b[0m\u001b[0;34m\u001b[0m\u001b[0;34m\u001b[0m\u001b[0m\n\u001b[1;32m    288\u001b[0m     \u001b[0;31m# calls in the traceback and some print out the last line\u001b[0m\u001b[0;34m\u001b[0m\u001b[0;34m\u001b[0m\u001b[0m\n\u001b[0;32m--> 289\u001b[0;31m     _engine_run_backward(\n\u001b[0m\u001b[1;32m    290\u001b[0m         \u001b[0mtensors\u001b[0m\u001b[0;34m,\u001b[0m\u001b[0;34m\u001b[0m\u001b[0;34m\u001b[0m\u001b[0m\n\u001b[1;32m    291\u001b[0m         \u001b[0mgrad_tensors_\u001b[0m\u001b[0;34m,\u001b[0m\u001b[0;34m\u001b[0m\u001b[0;34m\u001b[0m\u001b[0m\n",
            "\u001b[0;32m/usr/local/lib/python3.10/dist-packages/torch/autograd/graph.py\u001b[0m in \u001b[0;36m_engine_run_backward\u001b[0;34m(t_outputs, *args, **kwargs)\u001b[0m\n\u001b[1;32m    767\u001b[0m         \u001b[0munregister_hooks\u001b[0m \u001b[0;34m=\u001b[0m \u001b[0m_register_logging_hooks_on_whole_graph\u001b[0m\u001b[0;34m(\u001b[0m\u001b[0mt_outputs\u001b[0m\u001b[0;34m)\u001b[0m\u001b[0;34m\u001b[0m\u001b[0;34m\u001b[0m\u001b[0m\n\u001b[1;32m    768\u001b[0m     \u001b[0;32mtry\u001b[0m\u001b[0;34m:\u001b[0m\u001b[0;34m\u001b[0m\u001b[0;34m\u001b[0m\u001b[0m\n\u001b[0;32m--> 769\u001b[0;31m         return Variable._execution_engine.run_backward(  # Calls into the C++ engine to run the backward pass\n\u001b[0m\u001b[1;32m    770\u001b[0m             \u001b[0mt_outputs\u001b[0m\u001b[0;34m,\u001b[0m \u001b[0;34m*\u001b[0m\u001b[0margs\u001b[0m\u001b[0;34m,\u001b[0m \u001b[0;34m**\u001b[0m\u001b[0mkwargs\u001b[0m\u001b[0;34m\u001b[0m\u001b[0;34m\u001b[0m\u001b[0m\n\u001b[1;32m    771\u001b[0m         )  # Calls into the C++ engine to run the backward pass\n",
            "\u001b[0;31mRuntimeError\u001b[0m: Trying to backward through the graph a second time (or directly access saved tensors after they have already been freed). Saved intermediate values of the graph are freed when you call .backward() or autograd.grad(). Specify retain_graph=True if you need to backward through the graph a second time or if you need to access saved tensors after calling backward."
          ]
        }
      ]
    },
    {
      "cell_type": "code",
      "source": [
        "x.grad # 미분 값이 누적되고 있음"
      ],
      "metadata": {
        "colab": {
          "base_uri": "https://localhost:8080/"
        },
        "id": "W_76xC9sQDTW",
        "outputId": "4fe85d00-0722-4b21-c265-d0ba044d5688"
      },
      "id": "W_76xC9sQDTW",
      "execution_count": null,
      "outputs": [
        {
          "output_type": "execute_result",
          "data": {
            "text/plain": [
              "tensor([4., 6.])"
            ]
          },
          "metadata": {},
          "execution_count": 20
        }
      ]
    },
    {
      "cell_type": "markdown",
      "id": "2549976d-8005-44ca-b4e4-c32987ee245d",
      "metadata": {
        "id": "2549976d-8005-44ca-b4e4-c32987ee245d"
      },
      "source": [
        "# 데이터 로더"
      ]
    },
    {
      "cell_type": "code",
      "execution_count": null,
      "id": "d6eff160-a6f7-49ed-b920-1881ec37bf67",
      "metadata": {
        "id": "d6eff160-a6f7-49ed-b920-1881ec37bf67"
      },
      "outputs": [],
      "source": [
        "import torch\n",
        "from torch.utils.data import DataLoader, Dataset"
      ]
    },
    {
      "cell_type": "code",
      "source": [
        "# 데이터로더: 미니 배치 단위로 데이터를 분할해주는 역할\n",
        "# 데이터 셔플, 전처리 등의 기능을 제공\n",
        "# 데이터로더를 사용하기 위해 데이터를 Dataset이라는 형태로 변환\n",
        "# 1. TensorDataset 클래스 사용\n",
        "# 2. Dataset 클래스를 상속하여 커스텀 데이터세트 생성"
      ],
      "metadata": {
        "id": "er_DRBVJhBVi"
      },
      "id": "er_DRBVJhBVi",
      "execution_count": null,
      "outputs": []
    },
    {
      "cell_type": "code",
      "source": [
        "# 예시 데이터\n",
        "data = torch.randn(100, 3)  # 100개의 샘플, 각 샘플은 3차원 벡터\n",
        "labels = torch.randint(0, 2, (100,))  # 이진 분류를 위한 100개의 레이블"
      ],
      "metadata": {
        "id": "p4K9kahVhfBN"
      },
      "id": "p4K9kahVhfBN",
      "execution_count": null,
      "outputs": []
    },
    {
      "cell_type": "code",
      "source": [
        "data.shape, labels.shape"
      ],
      "metadata": {
        "colab": {
          "base_uri": "https://localhost:8080/"
        },
        "id": "2CjtnPoihgJd",
        "outputId": "3451ac65-0b9d-4599-d0bc-f507702b64a2"
      },
      "id": "2CjtnPoihgJd",
      "execution_count": null,
      "outputs": [
        {
          "output_type": "execute_result",
          "data": {
            "text/plain": [
              "(torch.Size([100, 3]), torch.Size([100]))"
            ]
          },
          "metadata": {},
          "execution_count": 25
        }
      ]
    },
    {
      "cell_type": "code",
      "source": [
        "# 전처리가 불필요한 데이터\n",
        "from torch.utils.data import TensorDataset\n",
        "\n",
        "# TensorDataset으로 변환\n",
        "# Dataset의 특징\n",
        "# 1. len 함수로 길이 측정 가능\n",
        "# 2. 인덱싱으로 데이터 추출 가능\n",
        "dataset = TensorDataset(data, labels)\n",
        "dataset"
      ],
      "metadata": {
        "colab": {
          "base_uri": "https://localhost:8080/"
        },
        "id": "lqMRhntfhl_t",
        "outputId": "a7c8c633-98b6-4480-ef09-74c8660837f9"
      },
      "id": "lqMRhntfhl_t",
      "execution_count": null,
      "outputs": [
        {
          "output_type": "execute_result",
          "data": {
            "text/plain": [
              "<torch.utils.data.dataset.TensorDataset at 0x7cc61eebca60>"
            ]
          },
          "metadata": {},
          "execution_count": 26
        }
      ]
    },
    {
      "cell_type": "code",
      "source": [
        "len(dataset) # 1. len 함수로 길이 측정 가능"
      ],
      "metadata": {
        "colab": {
          "base_uri": "https://localhost:8080/"
        },
        "id": "bMrw-y-_h9_e",
        "outputId": "21521d6e-f39c-4619-b969-6aaacb716f49"
      },
      "id": "bMrw-y-_h9_e",
      "execution_count": null,
      "outputs": [
        {
          "output_type": "execute_result",
          "data": {
            "text/plain": [
              "100"
            ]
          },
          "metadata": {},
          "execution_count": 27
        }
      ]
    },
    {
      "cell_type": "code",
      "source": [
        "x, y = dataset[0] # 2. 인덱싱으로 데이터 추출 가능\n",
        "x, y"
      ],
      "metadata": {
        "colab": {
          "base_uri": "https://localhost:8080/"
        },
        "id": "SaxjHx_Ah_-L",
        "outputId": "9c7e457e-92b7-490f-b71a-eb9fa324e66d"
      },
      "id": "SaxjHx_Ah_-L",
      "execution_count": null,
      "outputs": [
        {
          "output_type": "execute_result",
          "data": {
            "text/plain": [
              "(tensor([-1.2384, -0.8420, -0.3620]), tensor(0))"
            ]
          },
          "metadata": {},
          "execution_count": 29
        }
      ]
    },
    {
      "cell_type": "code",
      "execution_count": null,
      "id": "641f9eed-6852-4493-9eff-3301c4e31a96",
      "metadata": {
        "id": "641f9eed-6852-4493-9eff-3301c4e31a96"
      },
      "outputs": [],
      "source": [
        "# 별 표\n",
        "from torch.utils.data import Dataset\n",
        "\n",
        "class CustomDataset(Dataset):\n",
        "    # 필수 메소드\n",
        "    def __init__(self, data, labels): # 생성자\n",
        "        self.data = data\n",
        "        self.labels = labels\n",
        "\n",
        "    def __len__(self): # len 사용 시 호출되는 메소드\n",
        "        return len(self.data)\n",
        "\n",
        "    def __getitem__(self, idx): # 인덱싱 시 호출되는 메소드\n",
        "        return (self.data[idx], self.labels[idx])"
      ]
    },
    {
      "cell_type": "code",
      "execution_count": null,
      "id": "b8a8a93a-66b3-4f04-9fb2-5bafcf195864",
      "metadata": {
        "id": "b8a8a93a-66b3-4f04-9fb2-5bafcf195864",
        "colab": {
          "base_uri": "https://localhost:8080/"
        },
        "outputId": "2d403945-2613-4ffa-e878-6ca289248188"
      },
      "outputs": [
        {
          "output_type": "stream",
          "name": "stdout",
          "text": [
            "100\n"
          ]
        },
        {
          "output_type": "execute_result",
          "data": {
            "text/plain": [
              "(tensor([-1.2384, -0.8420, -0.3620]), tensor(0))"
            ]
          },
          "metadata": {},
          "execution_count": 32
        }
      ],
      "source": [
        "# 데이터셋 및 DataLoader(배치 크기3) 생성\n",
        "dataset = CustomDataset(data, labels)\n",
        "print(len(dataset))\n",
        "dataset[0]"
      ]
    },
    {
      "cell_type": "code",
      "source": [
        "# DataLoader(배치 크기3) 생성\n",
        "from torch.utils.data import DataLoader\n",
        "\n",
        "# DataLoader\n",
        "# dataset = Dataset타입의 인스턴스\n",
        "# batch_size = 정수\n",
        "# shuffle = True\n",
        "# drop_true = False\n",
        "# collate_fn = 함수 (사용자 전처리 함수)\n",
        "dataloader = DataLoader(dataset, batch_size=3, shuffle=True, drop_last=True)\n",
        "dataloader"
      ],
      "metadata": {
        "colab": {
          "base_uri": "https://localhost:8080/"
        },
        "id": "3L4WDv2Hm6EJ",
        "outputId": "f17913cc-ea6c-49db-a49a-f130095d3400"
      },
      "id": "3L4WDv2Hm6EJ",
      "execution_count": null,
      "outputs": [
        {
          "output_type": "execute_result",
          "data": {
            "text/plain": [
              "<torch.utils.data.dataloader.DataLoader at 0x7cc6199ee500>"
            ]
          },
          "metadata": {},
          "execution_count": 51
        }
      ]
    },
    {
      "cell_type": "code",
      "source": [
        "train_loader = DataLoader(dataset, batch_size=32, shuffle=True, drop_last=True)\n",
        "test_loader = DataLoader(dataset, batch_size=32, shuffle=False, drop_last=False)"
      ],
      "metadata": {
        "id": "dNzfg2i7pQZS"
      },
      "id": "dNzfg2i7pQZS",
      "execution_count": null,
      "outputs": []
    },
    {
      "cell_type": "code",
      "source": [
        "for idx, (x, y) in enumerate(dataloader):\n",
        "    print(idx, x, y)"
      ],
      "metadata": {
        "colab": {
          "base_uri": "https://localhost:8080/"
        },
        "collapsed": true,
        "id": "euZcJVk4n6cK",
        "outputId": "a8d8072c-fb2c-4da2-8c14-bada923f67fb"
      },
      "id": "euZcJVk4n6cK",
      "execution_count": null,
      "outputs": [
        {
          "output_type": "stream",
          "name": "stdout",
          "text": [
            "0 tensor([[-0.6467,  0.1490,  0.7995],\n",
            "        [ 0.0396,  0.4756, -1.5343],\n",
            "        [ 0.4999,  0.5155, -0.4608]]) tensor([0, 0, 1])\n",
            "1 tensor([[-0.8473,  1.4334, -0.7604],\n",
            "        [-1.4142,  0.7531,  0.4809],\n",
            "        [-1.2510,  0.5783, -0.9378]]) tensor([0, 0, 0])\n",
            "2 tensor([[-0.4907, -1.4701, -0.3577],\n",
            "        [ 1.2804, -0.8866,  0.6830],\n",
            "        [-0.7841, -1.1136,  0.8208]]) tensor([0, 0, 0])\n",
            "3 tensor([[-0.8357, -0.3869, -0.4272],\n",
            "        [ 0.0854, -0.0755, -0.0112],\n",
            "        [ 2.1595,  1.4593,  0.6175]]) tensor([1, 1, 1])\n",
            "4 tensor([[-0.3341, -0.3699, -1.3537],\n",
            "        [ 0.6775, -1.1423,  1.8304],\n",
            "        [ 2.6796, -1.1287, -0.5001]]) tensor([0, 0, 1])\n",
            "5 tensor([[-2.6088,  0.1188,  0.2765],\n",
            "        [-0.3882, -0.0291, -1.1825],\n",
            "        [-0.3132,  1.1342,  0.2235]]) tensor([1, 0, 0])\n",
            "6 tensor([[-0.3861,  0.7085,  1.3521],\n",
            "        [ 1.3677, -0.8915, -0.4460],\n",
            "        [-1.4294,  1.3929,  0.5325]]) tensor([1, 1, 0])\n",
            "7 tensor([[ 0.3152,  1.6066,  0.3431],\n",
            "        [-0.5221,  0.5851,  0.4981],\n",
            "        [ 0.1671, -0.2785,  0.2590]]) tensor([0, 0, 0])\n",
            "8 tensor([[ 0.1155, -1.4298, -0.0951],\n",
            "        [-0.6163, -0.9267, -0.9843],\n",
            "        [ 0.5177, -0.9479, -0.8709]]) tensor([1, 1, 0])\n",
            "9 tensor([[ 0.0517,  0.6799,  1.0191],\n",
            "        [ 0.1943,  0.1854, -0.4524],\n",
            "        [-0.8423,  0.0226,  0.0940]]) tensor([0, 0, 0])\n",
            "10 tensor([[ 0.5317,  1.6739, -0.4966],\n",
            "        [ 0.5121, -0.3172, -0.5109],\n",
            "        [ 0.8059, -2.1017,  0.8405]]) tensor([1, 1, 0])\n",
            "11 tensor([[-1.5700, -0.6868, -0.9542],\n",
            "        [ 2.1907,  0.2694, -0.1446],\n",
            "        [ 0.1410,  0.5398, -2.2122]]) tensor([1, 0, 1])\n",
            "12 tensor([[ 1.2236,  0.7599, -0.0936],\n",
            "        [-0.2282, -0.7136,  0.4306],\n",
            "        [ 0.4566, -0.6247, -0.3654]]) tensor([1, 0, 0])\n",
            "13 tensor([[ 0.2900,  0.4468,  0.9694],\n",
            "        [-0.7550,  0.5539, -0.4389],\n",
            "        [-1.3892, -0.6307,  1.8217]]) tensor([0, 1, 1])\n",
            "14 tensor([[-0.9232,  1.7525,  0.5528],\n",
            "        [-0.0174, -0.8679,  0.9933],\n",
            "        [ 0.6642,  0.1345,  1.1999]]) tensor([1, 0, 1])\n",
            "15 tensor([[-0.7062,  0.8911, -0.2118],\n",
            "        [-0.8977, -1.5092,  0.7693],\n",
            "        [ 2.0678, -1.3394,  0.5100]]) tensor([1, 1, 1])\n",
            "16 tensor([[ 0.4242, -1.2192, -0.2750],\n",
            "        [ 0.1309, -1.3688,  0.2285],\n",
            "        [ 1.9348, -0.8466, -0.3525]]) tensor([0, 0, 0])\n",
            "17 tensor([[-1.9855,  0.4604, -1.4268],\n",
            "        [-1.4569,  1.1562,  0.8657],\n",
            "        [ 0.5525,  0.2131, -0.8760]]) tensor([1, 1, 0])\n",
            "18 tensor([[-0.3294, -0.8597,  0.9332],\n",
            "        [-0.7572,  0.2731, -1.1880],\n",
            "        [ 1.0657,  0.9959, -1.6564]]) tensor([0, 0, 0])\n",
            "19 tensor([[ 1.2217, -1.3948,  1.2506],\n",
            "        [-0.4387,  0.2264,  0.6658],\n",
            "        [-0.3839, -0.6325, -0.4631]]) tensor([1, 1, 0])\n",
            "20 tensor([[ 0.0397,  0.4127, -0.8241],\n",
            "        [-1.4264,  0.6861, -1.0834],\n",
            "        [-0.2800, -0.2035,  1.1843]]) tensor([0, 0, 0])\n",
            "21 tensor([[ 2.2226,  0.3495, -0.7320],\n",
            "        [ 2.3250,  0.1456, -0.2205],\n",
            "        [ 0.1635, -1.0779, -0.0091]]) tensor([1, 0, 0])\n",
            "22 tensor([[ 0.6646, -0.3798,  0.1174],\n",
            "        [-0.3912,  0.7892,  0.2486],\n",
            "        [-0.3963,  0.5355, -2.0349]]) tensor([1, 0, 0])\n",
            "23 tensor([[-0.4102, -0.4252,  0.2552],\n",
            "        [ 0.0915, -0.4101, -0.6205],\n",
            "        [-0.1090, -1.1811, -0.2026]]) tensor([1, 0, 1])\n",
            "24 tensor([[ 0.6665, -0.3030,  0.2181],\n",
            "        [-0.8429, -0.8771,  0.1423],\n",
            "        [-1.6177,  0.2263,  0.7134]]) tensor([1, 1, 1])\n",
            "25 tensor([[ 0.0934,  0.1444,  0.5037],\n",
            "        [ 0.0457,  0.7189, -1.1185],\n",
            "        [-1.0253,  0.3029,  1.0857]]) tensor([0, 1, 1])\n",
            "26 tensor([[ 0.1816, -0.4510,  1.8843],\n",
            "        [ 1.5908,  0.3767,  0.2732],\n",
            "        [ 0.5288,  1.5625,  1.2494]]) tensor([1, 0, 1])\n",
            "27 tensor([[ 4.3440e-01,  1.0590e-01,  4.5622e-04],\n",
            "        [-7.8447e-01, -4.7842e-02,  1.7093e-01],\n",
            "        [ 4.5288e-01,  1.0888e+00,  2.5859e-01]]) tensor([0, 1, 1])\n",
            "28 tensor([[ 0.5381,  1.5960, -0.0227],\n",
            "        [ 1.0332, -2.6793, -1.3421],\n",
            "        [-1.2384, -0.8420, -0.3620]]) tensor([0, 0, 0])\n",
            "29 tensor([[ 1.5209,  0.8246,  0.9265],\n",
            "        [-1.6541, -0.0780, -0.2472],\n",
            "        [ 0.7883,  1.6523, -1.5523]]) tensor([1, 0, 0])\n",
            "30 tensor([[ 0.8133,  1.2956, -1.4176],\n",
            "        [ 0.1788, -0.1721, -1.6912],\n",
            "        [ 0.9978,  0.2161, -2.7653]]) tensor([0, 1, 1])\n",
            "31 tensor([[ 1.3748, -0.4666, -0.9054],\n",
            "        [ 0.5369,  0.7054, -0.1933],\n",
            "        [ 0.5964,  0.6573,  1.1460]]) tensor([0, 0, 1])\n",
            "32 tensor([[-0.0428, -1.5576,  1.4476],\n",
            "        [-0.8019, -0.3339, -0.5191],\n",
            "        [ 0.2498, -0.9658,  0.5593]]) tensor([0, 1, 1])\n"
          ]
        }
      ]
    },
    {
      "cell_type": "code",
      "source": [
        "len(dataloader) # 배치 개수"
      ],
      "metadata": {
        "colab": {
          "base_uri": "https://localhost:8080/"
        },
        "id": "Fmt-rycXoZwf",
        "outputId": "df6f471e-c6ae-45b7-96bf-a83fe7ddbcff"
      },
      "id": "Fmt-rycXoZwf",
      "execution_count": null,
      "outputs": [
        {
          "output_type": "execute_result",
          "data": {
            "text/plain": [
              "33"
            ]
          },
          "metadata": {},
          "execution_count": 53
        }
      ]
    },
    {
      "cell_type": "code",
      "source": [
        "len(dataloader.dataset)"
      ],
      "metadata": {
        "colab": {
          "base_uri": "https://localhost:8080/"
        },
        "id": "6oPuKNoLoiqq",
        "outputId": "5dd7b5d4-e65a-44b9-aa41-98f273149f14"
      },
      "id": "6oPuKNoLoiqq",
      "execution_count": null,
      "outputs": [
        {
          "output_type": "execute_result",
          "data": {
            "text/plain": [
              "100"
            ]
          },
          "metadata": {},
          "execution_count": 46
        }
      ]
    },
    {
      "cell_type": "code",
      "execution_count": null,
      "id": "8ffd8532-d65e-42ee-ace0-94a75a8f5784",
      "metadata": {
        "id": "8ffd8532-d65e-42ee-ace0-94a75a8f5784",
        "outputId": "6e5ce6ce-4723-4ea7-e36d-918ab51dda5c",
        "colab": {
          "base_uri": "https://localhost:8080/"
        }
      },
      "outputs": [
        {
          "output_type": "execute_result",
          "data": {
            "text/plain": [
              "(tensor([[ 1.9269,  1.4873,  0.9007],\n",
              "         [-2.1055,  0.6784, -1.2345],\n",
              "         [-0.0431, -1.6047, -0.7521]]),\n",
              " tensor([0, 0, 0]))"
            ]
          },
          "metadata": {},
          "execution_count": 76
        }
      ],
      "source": [
        "# DataLoader에서 모든 배치를 리스트로 변환\n",
        "all_batches = list(dataloader)\n",
        "batch_data, batch_labels = all_batches[0] # 첫번째 배치 조회\n",
        "batch_data, batch_labels"
      ]
    },
    {
      "cell_type": "code",
      "execution_count": null,
      "id": "8ebbb5bb-733a-4b92-bdbd-c8b950aff71d",
      "metadata": {
        "id": "8ebbb5bb-733a-4b92-bdbd-c8b950aff71d",
        "outputId": "74b5c7c9-058f-4117-d63c-8e96f1940575",
        "colab": {
          "base_uri": "https://localhost:8080/"
        }
      },
      "outputs": [
        {
          "output_type": "execute_result",
          "data": {
            "text/plain": [
              "(tensor([[-2.1268, -0.1341, -1.0408]]), tensor([0]))"
            ]
          },
          "metadata": {},
          "execution_count": 77
        }
      ],
      "source": [
        "batch_data, batch_labels = all_batches[-1] # 마지막 배치 조회\n",
        "batch_data, batch_labels"
      ]
    },
    {
      "cell_type": "code",
      "execution_count": null,
      "id": "635bfc83-067f-4ebc-809c-bf920bffbfeb",
      "metadata": {
        "id": "635bfc83-067f-4ebc-809c-bf920bffbfeb",
        "outputId": "8942b25a-5e08-4789-ebfe-65becc7da501",
        "colab": {
          "base_uri": "https://localhost:8080/"
        }
      },
      "outputs": [
        {
          "output_type": "execute_result",
          "data": {
            "text/plain": [
              "(tensor([[-0.1882, -0.7712,  0.1799],\n",
              "         [-2.1268, -0.1341, -1.0408]]),\n",
              " tensor([0, 0]))"
            ]
          },
          "metadata": {},
          "execution_count": 78
        }
      ],
      "source": [
        "# DataLoader(배치 크기7) 생성\n",
        "dataloader =\n",
        "all_batches = list(dataloader)\n",
        "batch_data, batch_labels = all_batches[-1] # 마지막 배치 조회\n",
        "batch_data, batch_labels"
      ]
    },
    {
      "cell_type": "code",
      "execution_count": null,
      "id": "b7725c50-a88d-41f3-bf24-ef8b443cce75",
      "metadata": {
        "id": "b7725c50-a88d-41f3-bf24-ef8b443cce75",
        "outputId": "cb99b7d9-7821-4462-ac3b-941dc436e9e4",
        "colab": {
          "base_uri": "https://localhost:8080/"
        }
      },
      "outputs": [
        {
          "output_type": "execute_result",
          "data": {
            "text/plain": [
              "(tensor([[-1.9267,  0.1279,  1.0229],\n",
              "         [-2.2064, -0.7508,  0.0109]]),\n",
              " tensor([1, 0]))"
            ]
          },
          "metadata": {},
          "execution_count": 79
        }
      ],
      "source": [
        "# DataLoader(배치 크기7, 셔플 설정) 생성\n",
        "dataloader =\n",
        "all_batches = list(dataloader)\n",
        "batch_data, batch_labels = all_batches[-1] # 마지막 배치 조회\n",
        "batch_data, batch_labels"
      ]
    },
    {
      "cell_type": "code",
      "execution_count": null,
      "id": "b5aef2f5-cc6b-4f3d-9a91-ce44f7a6289f",
      "metadata": {
        "id": "b5aef2f5-cc6b-4f3d-9a91-ce44f7a6289f",
        "outputId": "6cb95f99-7649-4aef-83e3-10197da6c8f1",
        "colab": {
          "base_uri": "https://localhost:8080/"
        }
      },
      "outputs": [
        {
          "output_type": "execute_result",
          "data": {
            "text/plain": [
              "(tensor([[ 0.5258, -0.4880,  1.1914],\n",
              "         [ 0.1852,  1.0687,  1.3065],\n",
              "         [ 1.9892, -0.0720, -0.9061],\n",
              "         [ 0.7287,  0.9809, -0.5572],\n",
              "         [ 1.0119, -1.4364, -1.1299],\n",
              "         [-0.1882, -0.7712,  0.1799],\n",
              "         [-0.0431, -1.6047, -0.7521]]),\n",
              " tensor([0, 0, 1, 0, 0, 0, 0]))"
            ]
          },
          "metadata": {},
          "execution_count": 80
        }
      ],
      "source": [
        "# DataLoader(배치 크기7, 셔플 설정, 마지막 배치 드랍 설정) 생성\n",
        "dataloader =\n",
        "all_batches = list(dataloader)\n",
        "batch_data, batch_labels = all_batches[-1] # 마지막 배치 조회\n",
        "batch_data, batch_labels"
      ]
    }
  ],
  "metadata": {
    "kernelspec": {
      "display_name": "Python 3",
      "name": "python3"
    },
    "language_info": {
      "codemirror_mode": {
        "name": "ipython",
        "version": 3
      },
      "file_extension": ".py",
      "mimetype": "text/x-python",
      "name": "python",
      "nbconvert_exporter": "python",
      "pygments_lexer": "ipython3",
      "version": "3.10.14"
    },
    "colab": {
      "provenance": [],
      "include_colab_link": true
    }
  },
  "nbformat": 4,
  "nbformat_minor": 5
}